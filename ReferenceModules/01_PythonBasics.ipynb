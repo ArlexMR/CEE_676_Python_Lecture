{
  "nbformat": 4,
  "nbformat_minor": 0,
  "metadata": {
    "colab": {
      "provenance": [],
      "include_colab_link": true
    },
    "kernelspec": {
      "name": "python3",
      "display_name": "Python 3"
    },
    "language_info": {
      "name": "python"
    }
  },
  "cells": [
    {
      "cell_type": "markdown",
      "metadata": {
        "id": "view-in-github",
        "colab_type": "text"
      },
      "source": [
        "<a href=\"https://colab.research.google.com/github/ArlexMR/CEE_676_Python_Lecture/blob/main/ReferenceModules/01_PythonBasics.ipynb\" target=\"_parent\"><img src=\"https://colab.research.google.com/assets/colab-badge.svg\" alt=\"Open In Colab\"/></a>"
      ]
    },
    {
      "cell_type": "markdown",
      "source": [
        "# Introduction\n",
        "\n",
        "These notebooks are designed to give you a very basic overview of computer coding in python to conduct analyses of hydrologic data.\n",
        "\n",
        "A notebook is an interactive, \"live\" document, where you can describe the code you are creating, run the code, and analyze the outputs.\n",
        "\n",
        "Notebooks, including Google Collab, Jupyter Notebooks, and RNotebooks, are becoming increasingly popular in engineering and data science for creating reproduceable and efficicent code.\n",
        "\n",
        "Many of the analyses conducted in this notebook can be completed in Excel. You will see, however, that several functions that have already been written in python are very powerful, and can directly be applied to data science in hydrology. While there is a learning curve, there is also a large amount of tools that can be accessed via python and R that aren't accessible through excel.\n",
        "\n",
        "\n",
        "# Notebook 1\n",
        "\n",
        "This notebook goes over the very basic operations that can be completed in python."
      ],
      "metadata": {
        "id": "a0JUMsPn4-lC"
      }
    },
    {
      "cell_type": "markdown",
      "source": [
        "# Variables and assignment"
      ],
      "metadata": {
        "id": "ZXm1HaQyvOMI"
      }
    },
    {
      "cell_type": "markdown",
      "source": [
        "In Python,\n",
        "variables are defined using the symbol `=`  \n"
      ],
      "metadata": {
        "id": "j9bZF7H_wCw7"
      }
    },
    {
      "cell_type": "code",
      "execution_count": null,
      "metadata": {
        "id": "epiwzuMPvGnA"
      },
      "outputs": [],
      "source": [
        "my_variable = 1"
      ]
    },
    {
      "cell_type": "markdown",
      "source": [
        "you can show the content* of a variable just by writing its name:\n",
        "\n",
        "**Actually variables are not containers but pointers*. See below"
      ],
      "metadata": {
        "id": "qygWjk4Wxq1F"
      }
    },
    {
      "cell_type": "code",
      "source": [
        "my_variable"
      ],
      "metadata": {
        "id": "k904l4cow19a"
      },
      "execution_count": null,
      "outputs": []
    },
    {
      "cell_type": "markdown",
      "source": [
        "but it only works if it's placed in the last line:"
      ],
      "metadata": {
        "id": "m9HWp63yyRYC"
      }
    },
    {
      "cell_type": "code",
      "source": [
        "my_variable\n",
        "another_variable = 2\n"
      ],
      "metadata": {
        "id": "uV1N2lqbya2I"
      },
      "execution_count": null,
      "outputs": []
    },
    {
      "cell_type": "markdown",
      "source": [
        "A prefered and more versatile way for showing information is using the *function* `print()`\n",
        "\n",
        "A *function* is a process which takes in a variable, and outputs something new."
      ],
      "metadata": {
        "id": "kEhsxfAoyyNW"
      }
    },
    {
      "cell_type": "code",
      "source": [
        "print(my_variable)\n",
        "latest_variable = 3\n",
        "print(latest_variable)\n"
      ],
      "metadata": {
        "id": "3a6BUT5DxgiZ"
      },
      "execution_count": null,
      "outputs": []
    },
    {
      "cell_type": "markdown",
      "source": [
        "Often times computer programs will write in short hand notations. There are multiple reasons for this (i.e., iterating through a list, compacting code, etc).\n",
        "\n",
        "Using a \"#\" we can write in comments, basically telling the user what the lines of code are doing."
      ],
      "metadata": {
        "id": "9senfab37MJX"
      }
    },
    {
      "cell_type": "code",
      "source": [
        "# Updating a variable\n",
        "x = 10\n",
        "x += 5 # equivalent to x = x + 5\n",
        "x"
      ],
      "metadata": {
        "id": "WHQuHHZ-ciVC"
      },
      "execution_count": null,
      "outputs": []
    },
    {
      "cell_type": "code",
      "source": [
        "x = 10\n",
        "x *= 3 # x = x*3\n",
        "x"
      ],
      "metadata": {
        "id": "pfCIfdBqdJHj"
      },
      "execution_count": null,
      "outputs": []
    },
    {
      "cell_type": "markdown",
      "source": [
        "# 2. Data Types\n",
        "\n",
        "Python has the following data types built-in by default. A *data type* allows you to assign certain things in variables (e.g., text, numbers, numbers with decimals, TRUE/FALSE statements, etc.)\n",
        "\n",
        "Category | Data types\n",
        "--|--\n",
        "Text Type: | str\n",
        "Numeric Types: |\tint, float, complex\n",
        "Boolean Type:\t| bool\n",
        "Sequence Types: |\tlist, tuple, range\n",
        "Mapping Type:\t| dict\n",
        "Set Types:\t| set, frozenset\n",
        "Binary Types:\t| bytes, bytearray, memoryview\n",
        "None Type:\t| NoneType\n",
        "\n",
        "The data type stored in a variable can be accessed using the function `type()`"
      ],
      "metadata": {
        "id": "mKVUeEhKz_Ax"
      }
    },
    {
      "cell_type": "markdown",
      "source": [
        "## Strings, numeric and boolean"
      ],
      "metadata": {
        "id": "OoLdKeqZYZsA"
      }
    },
    {
      "cell_type": "code",
      "source": [
        "# Text type variables\n",
        "my_text = 'Hello World!'\n",
        "another_text = \"Goodbye world!\"\n",
        "\n",
        "print('Text variables: \\n')\n",
        "print('my_text is a:', type(my_text))\n",
        "print('another_text is a:',type(another_text))\n",
        "\n"
      ],
      "metadata": {
        "id": "0CYJwGR4zD54"
      },
      "execution_count": null,
      "outputs": []
    },
    {
      "cell_type": "code",
      "source": [
        "# Numeric Type Variables\n",
        "my_integer = 5\n",
        "my_float = 5.\n",
        "my_complex = 3j +5\n",
        "\n",
        "print('Numeric type variables: \\n')\n",
        "\n",
        "print('my_integer is a', type(my_integer), )\n",
        "\n",
        "print('my_float is a', type(my_float))\n",
        "\n",
        "print('my_complex is a', type(my_complex), 'equal to:', my_complex)"
      ],
      "metadata": {
        "id": "cK5I3ZxF7X9M"
      },
      "execution_count": null,
      "outputs": []
    },
    {
      "cell_type": "code",
      "source": [
        "# Boolean data types\n",
        "my_true_bool = True\n",
        "my_false_bool = False\n",
        "\n",
        "print('Boolean type variables: \\n')\n",
        "print('my_true_bool is a', type(my_true_bool))\n",
        "print('my_false_bool is a', type(my_false_bool))\n"
      ],
      "metadata": {
        "id": "6eCcQkea8Vgp"
      },
      "execution_count": null,
      "outputs": []
    },
    {
      "cell_type": "markdown",
      "source": [
        "## Sequences"
      ],
      "metadata": {
        "id": "qOvGfj3QZJwk"
      }
    },
    {
      "cell_type": "code",
      "source": [
        "# Sequence data types:\n",
        "\n",
        "my_list = [1, 2, 3, 4, 5]\n",
        "my_tuple = (1, 2, 3, 4, 5)\n",
        "my_range = range(1,6)\n",
        "\n",
        "print('my_list is a', type(my_list), 'equal to:', my_list )\n",
        "print('my_tuple is a', type(my_tuple), 'equal to:', my_tuple )\n",
        "print('my_range is a', type(my_range), 'equal to:', my_range )"
      ],
      "metadata": {
        "id": "bZbD_cnb4TF5"
      },
      "execution_count": null,
      "outputs": []
    },
    {
      "cell_type": "markdown",
      "source": [
        "Elements can be accessed using `[ ]`:  \n",
        "**IMPORTANT:** Python uses **zero-based indexing** which means that the first element has index 0, the second element has index 1, and so on."
      ],
      "metadata": {
        "id": "oONvFcJG-4lm"
      }
    },
    {
      "cell_type": "code",
      "source": [
        "first_element = my_list[0]\n",
        "print('First element:',first_element) #list\n",
        "\n",
        "print('Second element:',my_tuple[1]) # tuple\n",
        "print('Third element:',my_range[2]) # range\n",
        "\n",
        "print('last element:', my_list[-1]) # list\n",
        "print('penultimate',my_tuple[-2]) # tuple\n",
        "print('Last element in range',my_range[-1]) # range"
      ],
      "metadata": {
        "id": "eceUiTJj_LPO"
      },
      "execution_count": null,
      "outputs": []
    },
    {
      "cell_type": "markdown",
      "source": [
        "### Slicing sequences\n",
        "Slicing is used for extracting a portion of a sequence:\n",
        "```python  \n",
        "my_list[start:stop]\n",
        "```\n",
        "This will extract a sequence corresponding to the interval: `[start, stop)` being `start` and `stop` indexes  \n",
        "\n",
        "Another function, *range* will automatically create an array of numbers between a specified start and stop at a specified interval."
      ],
      "metadata": {
        "id": "5UWJno3LgbVx"
      }
    },
    {
      "cell_type": "code",
      "source": [
        "a_range = range(0, 100, 10)\n",
        "my_list = list(a_range)\n",
        "print(my_list)\n",
        "\n",
        "my_list[2:4]"
      ],
      "metadata": {
        "id": "vCqjIz4TjQMP"
      },
      "execution_count": null,
      "outputs": []
    },
    {
      "cell_type": "markdown",
      "source": [
        "\n",
        "If `start/stop` are omitted the slicing will go from/to the first/last element\n"
      ],
      "metadata": {
        "id": "UazPPKVAhCs2"
      }
    },
    {
      "cell_type": "code",
      "source": [
        "print(my_list)\n",
        "my_list[:4]"
      ],
      "metadata": {
        "id": "eFO-2ZCpl2i4"
      },
      "execution_count": null,
      "outputs": []
    },
    {
      "cell_type": "code",
      "source": [
        "print(my_list)\n",
        "my_list[4:]"
      ],
      "metadata": {
        "id": "MlHv2fo0mzfX"
      },
      "execution_count": null,
      "outputs": []
    },
    {
      "cell_type": "code",
      "source": [
        "print(my_list)\n",
        "my_list[4:-1]"
      ],
      "metadata": {
        "id": "SK-GOPi0BRUN"
      },
      "execution_count": null,
      "outputs": []
    },
    {
      "cell_type": "markdown",
      "source": [
        "A `step` can also be included within your slice:  \n",
        "\n",
        "```python\n",
        "my_list[start:stop:step]\n",
        "```"
      ],
      "metadata": {
        "id": "XGlWh7G-hIcR"
      }
    },
    {
      "cell_type": "code",
      "source": [
        "print(my_list)\n",
        "my_list[2:6:2]"
      ],
      "metadata": {
        "id": "Ie8alD61m3-N"
      },
      "execution_count": null,
      "outputs": []
    },
    {
      "cell_type": "markdown",
      "source": [
        "This is a nice way to invert the order of elements"
      ],
      "metadata": {
        "id": "KoCOkmIs_TiJ"
      }
    },
    {
      "cell_type": "code",
      "source": [
        "print(my_list)\n",
        "my_list[::-1]"
      ],
      "metadata": {
        "id": "ozqxh5VjoQb1"
      },
      "execution_count": null,
      "outputs": []
    },
    {
      "cell_type": "markdown",
      "source": [
        "Out-of-range **slicing** are permitted"
      ],
      "metadata": {
        "id": "Z4P6Ipkjjd6r"
      }
    },
    {
      "cell_type": "code",
      "source": [
        "len(my_list)"
      ],
      "metadata": {
        "id": "icYpMHRhJQtb"
      },
      "execution_count": null,
      "outputs": []
    },
    {
      "cell_type": "code",
      "source": [
        "print(my_list)\n",
        "my_list[9:20]"
      ],
      "metadata": {
        "id": "99jFJlbXs6r6"
      },
      "execution_count": null,
      "outputs": []
    },
    {
      "cell_type": "code",
      "source": [
        "print(my_list)\n",
        "my_list[10:20]"
      ],
      "metadata": {
        "id": "eur-oPpotMAt"
      },
      "execution_count": null,
      "outputs": []
    },
    {
      "cell_type": "markdown",
      "source": [
        "But not so with out-of-range **indexes**"
      ],
      "metadata": {
        "id": "bvL47WIQjohf"
      }
    },
    {
      "cell_type": "code",
      "source": [
        "print(my_list)\n",
        "my_list[10]"
      ],
      "metadata": {
        "id": "lHcCTBGetUar"
      },
      "execution_count": null,
      "outputs": []
    },
    {
      "cell_type": "markdown",
      "source": [
        "Indexing also works with strings"
      ],
      "metadata": {
        "id": "-uB_RwyHCnbf"
      }
    },
    {
      "cell_type": "code",
      "source": [
        "text = 'abcd efghi'\n",
        "print(text)\n",
        "print(text[0:4])\n",
        "print(text[4:7])\n"
      ],
      "metadata": {
        "id": "Wa5znEZ6Crwh"
      },
      "execution_count": null,
      "outputs": []
    },
    {
      "cell_type": "markdown",
      "source": [
        "### Slice assignment"
      ],
      "metadata": {
        "id": "_f_-9DgIsIVc"
      }
    },
    {
      "cell_type": "code",
      "source": [
        "my_list  = [0, 10, 20, 30, 40, 50, 60]\n",
        "print(my_list)\n",
        "my_list[1] = 1000\n",
        "my_list"
      ],
      "metadata": {
        "id": "hC_lOTNDsQ-Q"
      },
      "execution_count": null,
      "outputs": []
    },
    {
      "cell_type": "code",
      "source": [
        "\n",
        "my_list[2:5] = [2000, 3000, 4000]\n",
        "my_list"
      ],
      "metadata": {
        "id": "EwkiKUkxt8HS"
      },
      "execution_count": null,
      "outputs": []
    },
    {
      "cell_type": "code",
      "source": [
        "\n",
        "my_list[2:5] = [-1]\n",
        "my_list"
      ],
      "metadata": {
        "id": "Bq8aHIY3sLmZ"
      },
      "execution_count": null,
      "outputs": []
    },
    {
      "cell_type": "markdown",
      "source": [
        "Lists and tuples can store a mixture of elements:"
      ],
      "metadata": {
        "id": "eBW59K8qAZxP"
      }
    },
    {
      "cell_type": "code",
      "source": [
        "a_mixed_list = [my_float, my_text, my_integer, my_tuple, my_range, my_list]\n",
        "print(\"a_mixed_list: \", a_mixed_list)\n",
        "\n",
        "print(\"a_mixed_list[3]: \",a_mixed_list[3])\n",
        "\n",
        "print(\"a_mixed_list[3][1]: \",a_mixed_list[3][1])\n",
        "\n",
        "print(\"a_mixed_list[2:4]: \",a_mixed_list[2:4])"
      ],
      "metadata": {
        "id": "7onlFS7fAb3o"
      },
      "execution_count": null,
      "outputs": []
    },
    {
      "cell_type": "code",
      "source": [
        "another_tuple = (my_float, my_text, my_integer, my_tuple, my_range)\n",
        "another_tuple\n"
      ],
      "metadata": {
        "id": "2lMZHx6m--7m"
      },
      "execution_count": null,
      "outputs": []
    },
    {
      "cell_type": "markdown",
      "source": [
        "So, What's the difference between tuples and lists? Look:"
      ],
      "metadata": {
        "id": "-ylXSP29CF74"
      }
    },
    {
      "cell_type": "code",
      "source": [
        "my_list  = [0, 10, 20, 30, 40, 50, 60]\n",
        "print(my_list)\n",
        "my_list[1] = 1000\n",
        "my_list"
      ],
      "metadata": {
        "id": "lo3MDoPkrOqm"
      },
      "execution_count": null,
      "outputs": []
    },
    {
      "cell_type": "code",
      "source": [
        "my_tuple = (0, 10, 20, 30, 40, 50, 60)\n",
        "my_tuple[1] = 1000"
      ],
      "metadata": {
        "id": "vZxTOC5hrTJB"
      },
      "execution_count": null,
      "outputs": []
    },
    {
      "cell_type": "markdown",
      "source": [
        "Tuples are immutable elements. That is, its content can NOT be changed"
      ],
      "metadata": {
        "id": "xenbv2IKvCLg"
      }
    },
    {
      "cell_type": "markdown",
      "source": [
        "**WARNING:**\n",
        "In general, variable names in python are pointers instead of containers, which means that they don't actually store the data, but points to the bucket where data is stored. As a consequence, if you have two variables pointing to the same bucket (piece of data) and change one of them, the other may change:"
      ],
      "metadata": {
        "id": "hXyHvXAAWZa1"
      }
    },
    {
      "cell_type": "code",
      "source": [
        "x = [0,1,2]\n",
        "y = x\n",
        "x[2] = 999 # Changing only x\n",
        "print('x: ', x)\n",
        "print('y: ', y, 'also changed!')"
      ],
      "metadata": {
        "id": "wNO5LD2_CKWs"
      },
      "execution_count": null,
      "outputs": []
    },
    {
      "cell_type": "markdown",
      "source": [
        "Note, this some languages are impacted by this, some aren't. For example, in R y would remain [0, 1, 2].\n",
        "\n",
        "Also, with certain data types you don't see this behavior:"
      ],
      "metadata": {
        "id": "X-5-CrvVXmT_"
      }
    },
    {
      "cell_type": "code",
      "source": [
        "x = 1\n",
        "y = x\n",
        "print('x: ', x)\n",
        "print('y: ', y)\n",
        "\n",
        "x = 'Hello world!'\n",
        "\n",
        "print('x: ', x)\n",
        "print(\"y didn't changed:\", y )\n"
      ],
      "metadata": {
        "id": "1mCDspix8JJM"
      },
      "execution_count": null,
      "outputs": []
    },
    {
      "cell_type": "markdown",
      "source": [
        "## Dictionaries\n",
        "\n",
        "A dictionary is a data structure comprised of `key:value` pairs. Where the *keys* must be unique and replace the sequential index of lists and tuples. *keys* can be *strings* or *numbers*"
      ],
      "metadata": {
        "id": "Nq4NWYa1Ef9_"
      }
    },
    {
      "cell_type": "code",
      "source": [
        "my_dict = {'a': 0, 'b':1, 'c': (10,20), 4:['abc',1], '5':True}\n",
        "print(my_dict)"
      ],
      "metadata": {
        "id": "wDOAJ3-EHGDv"
      },
      "execution_count": null,
      "outputs": []
    },
    {
      "cell_type": "code",
      "source": [
        "print(\"a: \", my_dict['a'])\n",
        "\n",
        "print(\"b: \", my_dict['b'])\n",
        "\n",
        "print(\"c: \", my_dict['c'])\n",
        "\n",
        "print(\"4: \", my_dict[4])\n",
        "\n",
        "print(\"5: \", my_dict['5'])\n"
      ],
      "metadata": {
        "id": "a5VgjgztHdHy"
      },
      "execution_count": null,
      "outputs": []
    },
    {
      "cell_type": "code",
      "source": [
        "del my_dict['b']\n",
        "my_dict[6] = 999\n",
        "my_dict"
      ],
      "metadata": {
        "id": "bOuG8AkGItY8"
      },
      "execution_count": null,
      "outputs": []
    },
    {
      "cell_type": "markdown",
      "source": [
        "# Basic Operations"
      ],
      "metadata": {
        "id": "oWJ9LRVlZick"
      }
    },
    {
      "cell_type": "markdown",
      "source": [
        "## Arithmetic Operations"
      ],
      "metadata": {
        "id": "a7dxLeiIZlxE"
      }
    },
    {
      "cell_type": "markdown",
      "source": [
        "Operator |\tName |\tDescription\n",
        "-----|------|-----\n",
        "a + b |\tAddition |\tSum of `a` and `b`\n",
        "a - b\t| Subtraction\t| Difference of `a` and `b`\n",
        "a * b\t| Multiplication\t| Product of `a` and `b`\n",
        "a / b\t| True division\t| Quotient of `a` and `b`\n",
        "a // b\t| Floor division\t| Quotient of `a` and `b`, removing fractional parts\n",
        "a % b\t| Modulus\t| Integer remainder after division of `a` by `b`\n",
        "a ** b\t| Exponentiation\t| `a` raised to the power of `b`\n",
        "-a\t| Negation\t| The negative of `a`\n",
        "+a\t| Unary plus\t| `a` unchanged (rarely used)"
      ],
      "metadata": {
        "id": "Ho64umn6Zy3q"
      }
    },
    {
      "cell_type": "code",
      "source": [
        "5/3\n"
      ],
      "metadata": {
        "id": "7L-hotNza7bR"
      },
      "execution_count": null,
      "outputs": []
    },
    {
      "cell_type": "code",
      "source": [
        "a = 5\n",
        "b = 3\n",
        "a/b"
      ],
      "metadata": {
        "id": "Oa5YP1LybeAI"
      },
      "execution_count": null,
      "outputs": []
    },
    {
      "cell_type": "code",
      "source": [
        "5//3"
      ],
      "metadata": {
        "id": "FL-Gz33SbnH8"
      },
      "execution_count": null,
      "outputs": []
    },
    {
      "cell_type": "code",
      "source": [
        "5%3"
      ],
      "metadata": {
        "id": "QlMcSE3tbqVX"
      },
      "execution_count": null,
      "outputs": []
    },
    {
      "cell_type": "code",
      "source": [
        "4**2"
      ],
      "metadata": {
        "id": "iTGETCX6bzQD"
      },
      "execution_count": null,
      "outputs": []
    },
    {
      "cell_type": "code",
      "source": [
        "4**-2"
      ],
      "metadata": {
        "id": "HDPegYD7cDzA"
      },
      "execution_count": null,
      "outputs": []
    },
    {
      "cell_type": "code",
      "source": [
        "(2+1)*(4-2)"
      ],
      "metadata": {
        "id": "tfxDjRk_cFpO"
      },
      "execution_count": null,
      "outputs": []
    },
    {
      "cell_type": "markdown",
      "source": [
        "See how sequential addition operates on sequential elements (note, some of this is unique to python):"
      ],
      "metadata": {
        "id": "64goXUoHAQZ8"
      }
    },
    {
      "cell_type": "code",
      "source": [
        "a = [0,1,2]\n",
        "b = ['a','b','c']\n",
        "print(a + b)\n",
        "print(a*2)"
      ],
      "metadata": {
        "id": "eq-rx8l4cNWK"
      },
      "execution_count": null,
      "outputs": []
    },
    {
      "cell_type": "code",
      "source": [
        "a = (0,1,2)\n",
        "b = ('a','b','c')\n",
        "print(a + b)\n",
        "print(a*2)"
      ],
      "metadata": {
        "id": "qJWhA2U9AqBl"
      },
      "execution_count": null,
      "outputs": []
    },
    {
      "cell_type": "code",
      "source": [
        "a = 'Hello'\n",
        "b = 'World'\n",
        "print(a + b)\n",
        "print(a*2)"
      ],
      "metadata": {
        "id": "1Oino3tRBO9m"
      },
      "execution_count": null,
      "outputs": []
    },
    {
      "cell_type": "markdown",
      "source": [
        "## Comparison operations\n",
        "\n",
        "Another type of operation which can be very useful is comparison of different values. For this, Python implements standard comparison operators, which return Boolean values `True` and `False`. The comparison operations are listed in the following table:\n",
        "\n",
        "\n",
        "Operation | Description   \n",
        "---------|-------\n",
        " a == b | a equal to b\n",
        "a != b | a not equal to b\n",
        "a < b | a less than b\n",
        "a > b | a greater than b\n",
        "a <= b | a less than or equal to b\n",
        "a >= b | a greater than or equal to b\n",
        "\n",
        "For example, we can check if a number is odd by checking that the modulus with 2 is different from zero:"
      ],
      "metadata": {
        "id": "fqbINnr2d2wU"
      }
    },
    {
      "cell_type": "code",
      "source": [
        "# 25 is odd\n",
        "24 % 2 != 0"
      ],
      "metadata": {
        "id": "ih-o5Oqyd5uq"
      },
      "execution_count": null,
      "outputs": []
    },
    {
      "cell_type": "code",
      "source": [
        "# check if a is between 15 and 30\n",
        "a = 25\n",
        "15 < a < 30"
      ],
      "metadata": {
        "id": "gblK6UAiejbG"
      },
      "execution_count": null,
      "outputs": []
    },
    {
      "cell_type": "markdown",
      "source": [
        "## Boolean or logical operations\n",
        "\n",
        "Operator      |Description                                   \n",
        "----------------------|-----------------\n",
        "`a and b` | Return `True` when both statements are `True`\n",
        " `a or b`  | Return `True` when either `a` or `b` is `True`\n",
        " `not a`   | Reverse the result, returns False if `a` is true"
      ],
      "metadata": {
        "id": "3AgKR8dKfqoR"
      }
    },
    {
      "cell_type": "code",
      "source": [
        "x = 10\n",
        "y = 20\n",
        "\n",
        "x >= y or x <= 15\n"
      ],
      "metadata": {
        "id": "NqkpLySmfs-0"
      },
      "execution_count": null,
      "outputs": []
    },
    {
      "cell_type": "code",
      "source": [
        "not x < y"
      ],
      "metadata": {
        "id": "a8K0GPOBO2E4"
      },
      "execution_count": null,
      "outputs": []
    }
  ]
}