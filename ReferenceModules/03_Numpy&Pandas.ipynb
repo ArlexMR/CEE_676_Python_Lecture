{
  "nbformat": 4,
  "nbformat_minor": 0,
  "metadata": {
    "colab": {
      "provenance": [],
      "include_colab_link": true
    },
    "kernelspec": {
      "name": "python3",
      "display_name": "Python 3"
    },
    "language_info": {
      "name": "python"
    }
  },
  "cells": [
    {
      "cell_type": "markdown",
      "metadata": {
        "id": "view-in-github",
        "colab_type": "text"
      },
      "source": [
        "<a href=\"https://colab.research.google.com/github/ArlexMR/CEE_676_Python_Lecture/blob/main/ReferenceModules/03_Numpy%26Pandas.ipynb\" target=\"_parent\"><img src=\"https://colab.research.google.com/assets/colab-badge.svg\" alt=\"Open In Colab\"/></a>"
      ]
    },
    {
      "cell_type": "markdown",
      "source": [
        "# Numpy\n",
        "Numpy is a library for scientific computing. It provides tools for working with multidimensional arrays (vectors, matrices). The basic data type (`class`) in Numpy is the *Numpy array*\n"
      ],
      "metadata": {
        "id": "Pozg7Afsj-dv"
      }
    },
    {
      "cell_type": "markdown",
      "source": [
        "First you need to import the library:"
      ],
      "metadata": {
        "id": "1bV_bHWgWGoL"
      }
    },
    {
      "cell_type": "code",
      "source": [
        "import numpy as np"
      ],
      "metadata": {
        "id": "CSHJHmmKWF5j"
      },
      "execution_count": null,
      "outputs": []
    },
    {
      "cell_type": "code",
      "source": [
        "a = np.array([1., 2., 3.])   # Create a rank 1 array\n",
        "\n",
        "print(a)\n",
        "print(type(a))\n",
        "print(a.shape)\n"
      ],
      "metadata": {
        "id": "cwKVzzlAjkmG"
      },
      "execution_count": null,
      "outputs": []
    },
    {
      "cell_type": "code",
      "source": [
        "print(a[0], a[1], a[2])\n",
        "\n"
      ],
      "metadata": {
        "id": "PWczcLkwZcMI"
      },
      "execution_count": null,
      "outputs": []
    },
    {
      "cell_type": "code",
      "source": [
        "a[0] = np.nan                  # Change an element of the array\n",
        "print(a)"
      ],
      "metadata": {
        "id": "F1PBh6ScZdr9"
      },
      "execution_count": null,
      "outputs": []
    },
    {
      "cell_type": "code",
      "source": [
        "b = np.array([[1.,2.,3.],[4.,5.,6.]])    # Create a rank 2 array\n",
        "\n",
        "print(b, end = '\\n\\n')\n",
        "print(b.shape)                     # Prints \"(2, 3)\"\n",
        "print(b[0, 0], b[0, 1], b[1, 0])   # Prints \"1 2 4\""
      ],
      "metadata": {
        "id": "QJT5SHMIYLza"
      },
      "execution_count": null,
      "outputs": []
    },
    {
      "cell_type": "code",
      "source": [
        "c = b[0,:]\n",
        "c"
      ],
      "metadata": {
        "id": "NcwdGgQWZ5Y9"
      },
      "execution_count": null,
      "outputs": []
    },
    {
      "cell_type": "code",
      "source": [
        "print(a)\n",
        "print(c)\n",
        "print(a + c)\n",
        "print(a*10)"
      ],
      "metadata": {
        "id": "OJBwB4zPaAJG"
      },
      "execution_count": null,
      "outputs": []
    },
    {
      "cell_type": "markdown",
      "source": [
        "see the link below for a wider explanation on how to use numpy for linear algebra, fourier analysis, and array manipulation in general.  \n",
        "\n",
        "https://numpy.org/devdocs/user/quickstart.html"
      ],
      "metadata": {
        "id": "8VJrinyNaW7r"
      }
    },
    {
      "cell_type": "markdown",
      "source": [
        "# Pandas\n",
        "\n",
        "Is a library for tabular data manipulation. It is built upon Numpy and provides tools for data science. The basic data types in Pandas are the *Series* and the *DataFrame*"
      ],
      "metadata": {
        "id": "zRn7kLwDby9b"
      }
    },
    {
      "cell_type": "code",
      "source": [
        "import pandas as pd"
      ],
      "metadata": {
        "id": "3SdqlTBSb0yA"
      },
      "execution_count": null,
      "outputs": []
    },
    {
      "cell_type": "markdown",
      "source": [
        "Creating a Series by passing a list of values, letting pandas create a default integer index:"
      ],
      "metadata": {
        "id": "05hhEIdokK6b"
      }
    },
    {
      "cell_type": "markdown",
      "source": [
        "## Series"
      ],
      "metadata": {
        "id": "9-T6jT50lmlP"
      }
    },
    {
      "cell_type": "code",
      "source": [
        "s = pd.Series([1, 3, 5, np.nan, 6, 8])\n",
        "s\n"
      ],
      "metadata": {
        "id": "jUPvi_Ned1D_"
      },
      "execution_count": null,
      "outputs": []
    },
    {
      "cell_type": "code",
      "source": [
        "type(s)"
      ],
      "metadata": {
        "id": "Qe8s2hgTkVlS"
      },
      "execution_count": null,
      "outputs": []
    },
    {
      "cell_type": "markdown",
      "source": [
        "or you can pass your own index:"
      ],
      "metadata": {
        "id": "gRTYxjuckNgD"
      }
    },
    {
      "cell_type": "code",
      "source": [
        "list('abcdef')"
      ],
      "metadata": {
        "id": "R73KXWdiUbqr"
      },
      "execution_count": null,
      "outputs": []
    },
    {
      "cell_type": "code",
      "source": [
        "index = list('abcdef')\n",
        "values = [1, 3, 5, np.nan, 6, 8]\n",
        "s = pd.Series(values, index = index)\n",
        "s"
      ],
      "metadata": {
        "id": "s9qn1ii5a6lc"
      },
      "execution_count": null,
      "outputs": []
    },
    {
      "cell_type": "markdown",
      "source": [
        "Elements can be accessed with its index  "
      ],
      "metadata": {
        "id": "jtt61QsilP9c"
      }
    },
    {
      "cell_type": "code",
      "source": [
        "print(s['a'])\n",
        "\n"
      ],
      "metadata": {
        "id": "RyKh_bKUk7F7"
      },
      "execution_count": null,
      "outputs": []
    },
    {
      "cell_type": "markdown",
      "source": [
        "## DataFrame"
      ],
      "metadata": {
        "id": "nygJQPsylpJ4"
      }
    },
    {
      "cell_type": "markdown",
      "source": [
        "A *DataFrame* is an array of data in tabular form similar to that you can create in Excel:\n",
        "\n",
        "Note, in other languages, such as R, DataFrames are built into the base language and it's not necessary to import a library."
      ],
      "metadata": {
        "id": "2-O8Et5JlyVf"
      }
    },
    {
      "cell_type": "code",
      "source": [
        "l1 = [10,20,30,40]\n",
        "l2 = list('abcd')\n",
        "l3 = [True, False, True, True]\n",
        "\n",
        "d = {'A':l1, 'B':l2, 'C':l3}\n",
        "\n",
        "df = pd.DataFrame(d)\n",
        "\n",
        "df"
      ],
      "metadata": {
        "id": "7grVgz5kj_Xu"
      },
      "execution_count": null,
      "outputs": []
    },
    {
      "cell_type": "code",
      "source": [
        "type(df)"
      ],
      "metadata": {
        "id": "-mjFyOExoCrG"
      },
      "execution_count": null,
      "outputs": []
    },
    {
      "cell_type": "markdown",
      "source": [
        "Accesing the data. For columns you can pass the column name (or a list of them)"
      ],
      "metadata": {
        "id": "gLM96eL5oogx"
      }
    },
    {
      "cell_type": "code",
      "source": [
        "df['A'] # return a Series"
      ],
      "metadata": {
        "id": "Owf8r05_oqL9"
      },
      "execution_count": null,
      "outputs": []
    },
    {
      "cell_type": "code",
      "source": [
        "df[['A','B']] # several columns must be passed as a list"
      ],
      "metadata": {
        "id": "DpNs7moWo9Ua"
      },
      "execution_count": null,
      "outputs": []
    },
    {
      "cell_type": "markdown",
      "source": [
        "If you want to filter certain rows, use the attribute `loc[]`:"
      ],
      "metadata": {
        "id": "8OBDerurpLUt"
      }
    },
    {
      "cell_type": "code",
      "source": [
        "df"
      ],
      "metadata": {
        "id": "OeoJS1xhVi9w"
      },
      "execution_count": null,
      "outputs": []
    },
    {
      "cell_type": "code",
      "source": [
        "df.loc[0]"
      ],
      "metadata": {
        "id": "JCIhgkFLprjj"
      },
      "execution_count": null,
      "outputs": []
    },
    {
      "cell_type": "code",
      "source": [
        "df"
      ],
      "metadata": {
        "id": "mNci0VsEqKnt"
      },
      "execution_count": null,
      "outputs": []
    },
    {
      "cell_type": "code",
      "source": [
        "df.loc[1,'C']"
      ],
      "metadata": {
        "id": "N1nMSuHvqA1n"
      },
      "execution_count": null,
      "outputs": []
    },
    {
      "cell_type": "markdown",
      "source": [
        "Boolean values can also be used:"
      ],
      "metadata": {
        "id": "JqFFa-mHrrg8"
      }
    },
    {
      "cell_type": "code",
      "source": [
        "desired_rows = df['C']\n",
        "\n",
        "df.loc[desired_rows]"
      ],
      "metadata": {
        "id": "Tuiy9ZwOrv4n"
      },
      "execution_count": null,
      "outputs": []
    },
    {
      "cell_type": "markdown",
      "source": [
        "Let' explore some important methods: `groupby` , `resample` and `rolling`\n",
        "\n"
      ],
      "metadata": {
        "id": "l0gQj9FcsMrC"
      }
    },
    {
      "cell_type": "markdown",
      "source": [
        "## groupby"
      ],
      "metadata": {
        "id": "8SlfuW8GsnHo"
      }
    },
    {
      "cell_type": "code",
      "source": [
        "df = pd.DataFrame({'Animal': ['Falcon', 'Falcon',\n",
        "                              'Parrot', 'Parrot'],\n",
        "                   'Max Speed': [380., 370., 24., 26.]})\n",
        "df"
      ],
      "metadata": {
        "id": "8e9R-f8MqWqa"
      },
      "execution_count": null,
      "outputs": []
    },
    {
      "cell_type": "code",
      "source": [
        "dir(df.groupby(['Animal']))"
      ],
      "metadata": {
        "id": "rPqRVLtJWXYL"
      },
      "execution_count": null,
      "outputs": []
    },
    {
      "cell_type": "code",
      "source": [
        "df2 = df.groupby(['Animal']).last()\n",
        "df2"
      ],
      "metadata": {
        "id": "rWSHKeJhsf1z"
      },
      "execution_count": null,
      "outputs": []
    },
    {
      "cell_type": "markdown",
      "source": [
        "Note that the original DataFrame doesn't change:"
      ],
      "metadata": {
        "id": "5WRg_zUYtcXC"
      }
    },
    {
      "cell_type": "code",
      "source": [
        "df"
      ],
      "metadata": {
        "id": "AGgjhECZthyB"
      },
      "execution_count": null,
      "outputs": []
    },
    {
      "cell_type": "markdown",
      "source": [
        "## Resample"
      ],
      "metadata": {
        "id": "Eyo93RCat_9u"
      }
    },
    {
      "cell_type": "code",
      "source": [
        "index = pd.date_range('1/1/2000', periods=9, freq='T')\n",
        "series = pd.Series(range(9), index=index)\n",
        "series"
      ],
      "metadata": {
        "id": "vfVqc6uHuBEC"
      },
      "execution_count": null,
      "outputs": []
    },
    {
      "cell_type": "code",
      "source": [
        "series.resample('3T').sum()"
      ],
      "metadata": {
        "id": "VRmO2NT1xXj7"
      },
      "execution_count": null,
      "outputs": []
    },
    {
      "cell_type": "markdown",
      "source": [
        "To learn more about the offset strings, please see:\n",
        "\n",
        "https://pandas.pydata.org/pandas-docs/stable/user_guide/timeseries.html#dateoffset-objects"
      ],
      "metadata": {
        "id": "Iae3qKZOzCGH"
      }
    },
    {
      "cell_type": "markdown",
      "source": [
        "# rolling"
      ],
      "metadata": {
        "id": "jzPvO21izRU5"
      }
    },
    {
      "cell_type": "code",
      "source": [
        "df = pd.DataFrame({'B': [0, 1, 2, 3, 4]})\n",
        "df"
      ],
      "metadata": {
        "id": "yXBPF7k1zTP-"
      },
      "execution_count": null,
      "outputs": []
    },
    {
      "cell_type": "code",
      "source": [
        "df.rolling(2).sum()"
      ],
      "metadata": {
        "id": "qKRIqoozyldB"
      },
      "execution_count": null,
      "outputs": []
    },
    {
      "cell_type": "code",
      "source": [
        "df.rolling(3, center = True).sum()"
      ],
      "metadata": {
        "id": "2HPfYPDK0p2N"
      },
      "execution_count": null,
      "outputs": []
    }
  ]
}