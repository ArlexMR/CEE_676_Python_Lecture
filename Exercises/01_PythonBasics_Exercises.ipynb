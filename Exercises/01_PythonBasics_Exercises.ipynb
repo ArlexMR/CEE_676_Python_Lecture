{
  "cells": [
    {
      "cell_type": "markdown",
      "metadata": {
        "id": "view-in-github",
        "colab_type": "text"
      },
      "source": [
        "<a href=\"https://colab.research.google.com/github/ArlexMR/CEE_676_Python_Lecture/blob/main/Exercises/01_PythonBasics_Exercises.ipynb\" target=\"_parent\"><img src=\"https://colab.research.google.com/assets/colab-badge.svg\" alt=\"Open In Colab\"/></a>"
      ]
    },
    {
      "cell_type": "markdown",
      "source": [
        "# Python Basics"
      ],
      "metadata": {
        "id": "vwLj_KAdOSPV"
      }
    },
    {
      "cell_type": "markdown",
      "source": [
        "# (10 points) Exercise 1. Basic data types, indexing and slicing"
      ],
      "metadata": {
        "id": "n5wrAQ4As22h"
      }
    },
    {
      "cell_type": "markdown",
      "metadata": {
        "id": "APM6JIixBngV"
      },
      "source": [
        "For each of the following, make  the required modification to the value on the right of the `==` in order to obtain a `True` value when the cell is run"
      ]
    },
    {
      "cell_type": "code",
      "execution_count": null,
      "metadata": {
        "id": "RkJxdSH9Bngl"
      },
      "outputs": [],
      "source": [
        "a = \"1\"\n",
        "type(a) == int"
      ]
    },
    {
      "cell_type": "code",
      "execution_count": null,
      "metadata": {
        "id": "a2Oe-UggBngn"
      },
      "outputs": [],
      "source": [
        "type(1) == float"
      ]
    },
    {
      "cell_type": "code",
      "source": [
        "type(1.0) == int"
      ],
      "metadata": {
        "id": "sAr0IaonGhuP"
      },
      "execution_count": null,
      "outputs": []
    },
    {
      "cell_type": "code",
      "execution_count": null,
      "metadata": {
        "id": "PA6Z0JB0Bngo"
      },
      "outputs": [],
      "source": [
        "l = [10,20,30,40,50]\n",
        "type(l) == int"
      ]
    },
    {
      "cell_type": "code",
      "source": [
        "t = (10,20,30,40,50)\n",
        "type(t) == list"
      ],
      "metadata": {
        "id": "YtoPS5W-yqLL"
      },
      "execution_count": null,
      "outputs": []
    },
    {
      "cell_type": "code",
      "source": [
        "a = \"False\"\n",
        "type(a) == bool"
      ],
      "metadata": {
        "id": "UVsyt4mp7i5G"
      },
      "execution_count": null,
      "outputs": []
    },
    {
      "cell_type": "code",
      "source": [
        "b = False\n",
        "type(b) == str"
      ],
      "metadata": {
        "id": "I9Ylx-Y37nkv"
      },
      "execution_count": null,
      "outputs": []
    },
    {
      "cell_type": "code",
      "execution_count": null,
      "metadata": {
        "id": "GSNZl6wIBngr"
      },
      "outputs": [],
      "source": [
        "round(9.81) == 9.8"
      ]
    },
    {
      "cell_type": "code",
      "source": [
        "int(9.8) == 10"
      ],
      "metadata": {
        "id": "x-nLAUlAGpAE"
      },
      "execution_count": null,
      "outputs": []
    },
    {
      "cell_type": "code",
      "execution_count": null,
      "metadata": {
        "id": "0xb9CpvgBngs"
      },
      "outputs": [],
      "source": [
        "type(round(9.8)) == float"
      ]
    },
    {
      "cell_type": "code",
      "execution_count": null,
      "metadata": {
        "id": "YVSo7wS2Bng9"
      },
      "outputs": [],
      "source": [
        "round(3.141592,3) == 3"
      ]
    },
    {
      "cell_type": "code",
      "execution_count": null,
      "metadata": {
        "id": "7_DCFdAOBnhC"
      },
      "outputs": [],
      "source": [
        "type(round(3.141592,2)) == int"
      ]
    },
    {
      "cell_type": "code",
      "execution_count": null,
      "metadata": {
        "id": "OyqFCXqjBnhd"
      },
      "outputs": [],
      "source": [
        "l = [10,20,30,40,50]\n",
        "type(l[0]) == list"
      ]
    },
    {
      "cell_type": "code",
      "execution_count": null,
      "metadata": {
        "id": "Z3vNlf8uBnhf"
      },
      "outputs": [],
      "source": [
        "l = [10,20,30,40,50]\n",
        "l[0] == 0"
      ]
    },
    {
      "cell_type": "code",
      "execution_count": null,
      "metadata": {
        "id": "Cx2MYEbqBnhi"
      },
      "outputs": [],
      "source": [
        "l = [10,20,30,40,50]\n",
        "l[-1] == -1"
      ]
    },
    {
      "cell_type": "code",
      "execution_count": null,
      "metadata": {
        "id": "cCv6FRlIBnhj"
      },
      "outputs": [],
      "source": [
        "l[1] == 10"
      ]
    },
    {
      "cell_type": "code",
      "source": [
        "l = list(range(3))\n",
        "l == [1,2,3]"
      ],
      "metadata": {
        "id": "QpbQL7wAz-8i"
      },
      "execution_count": null,
      "outputs": []
    },
    {
      "cell_type": "code",
      "execution_count": null,
      "metadata": {
        "id": "ihZ_X6ghBnhp"
      },
      "outputs": [],
      "source": [
        "l = list(range(1,3))\n",
        "len(l) == 3"
      ]
    },
    {
      "cell_type": "code",
      "execution_count": null,
      "metadata": {
        "id": "rkES8v-zBnhr"
      },
      "outputs": [],
      "source": [
        "l = list(range(5,10))\n",
        "l[0] == 0"
      ]
    },
    {
      "cell_type": "code",
      "execution_count": null,
      "metadata": {
        "id": "py8XYr2hBnhs"
      },
      "outputs": [],
      "source": [
        "l = list(range(5,10))\n",
        "l[1] == 5"
      ]
    },
    {
      "cell_type": "code",
      "execution_count": null,
      "metadata": {
        "id": "lPlVPMLaBnhu"
      },
      "outputs": [],
      "source": [
        "l = list(range(5,10))\n",
        "l[-1] == 10"
      ]
    },
    {
      "cell_type": "code",
      "execution_count": null,
      "metadata": {
        "id": "6G7ENQWnBnhv"
      },
      "outputs": [],
      "source": [
        "l = list(range(5,15,2))\n",
        "l[-1] == 14"
      ]
    },
    {
      "cell_type": "code",
      "execution_count": null,
      "metadata": {
        "id": "AWAZmr41Bnhx"
      },
      "outputs": [],
      "source": [
        "l = [10,20,30,40,50]\n",
        "l[:2] == [10,20,30]"
      ]
    },
    {
      "cell_type": "code",
      "execution_count": null,
      "metadata": {
        "id": "uq6BpvtuBnhy"
      },
      "outputs": [],
      "source": [
        "l = [10,20,30,40,50]\n",
        "l[1:] == [10, 20, 30, 40, 50]"
      ]
    },
    {
      "cell_type": "code",
      "execution_count": null,
      "metadata": {
        "id": "NTODoWLQBnhz"
      },
      "outputs": [],
      "source": [
        "l = [10,20,30,40,50]\n",
        "type(l[0:1]) == int"
      ]
    },
    {
      "cell_type": "code",
      "execution_count": null,
      "metadata": {
        "id": "upP12UQnBnh0"
      },
      "outputs": [],
      "source": [
        "l = [10,20,30,40,50]\n",
        "l[0:1] == 10"
      ]
    },
    {
      "cell_type": "code",
      "execution_count": null,
      "metadata": {
        "id": "kQMs0isSBnh2"
      },
      "outputs": [],
      "source": [
        "l = list(range(0,1000,100))\n",
        "l[:3] == [0,1,2]"
      ]
    },
    {
      "cell_type": "code",
      "execution_count": null,
      "metadata": {
        "id": "b3wCM2DyBniG"
      },
      "outputs": [],
      "source": [
        "l = list(range(100))\n",
        "type(l) == str"
      ]
    },
    {
      "cell_type": "code",
      "source": [
        "t = tuple(range(3))\n",
        "t == [0,1,2]"
      ],
      "metadata": {
        "id": "Phm65ZzfzmYv"
      },
      "execution_count": null,
      "outputs": []
    },
    {
      "cell_type": "code",
      "execution_count": null,
      "metadata": {
        "id": "RdpmAilhBniH"
      },
      "outputs": [],
      "source": [
        "val = \"cat\"\n",
        "val[1] == \"c\""
      ]
    },
    {
      "cell_type": "code",
      "execution_count": null,
      "metadata": {
        "id": "MAHIHoz-BniJ"
      },
      "outputs": [],
      "source": [
        "l = [\"cat\"]\n",
        "type(l) == str"
      ]
    },
    {
      "cell_type": "code",
      "execution_count": null,
      "metadata": {
        "id": "AT7njvQCBniK"
      },
      "outputs": [],
      "source": [
        "l = [\"cat\"]\n",
        "type(l[0]) == list"
      ]
    },
    {
      "cell_type": "code",
      "execution_count": null,
      "metadata": {
        "id": "teVZK-Z9BniL"
      },
      "outputs": [],
      "source": [
        "l = [\"1_cat\"]\n",
        "l[0][1] == \"1\""
      ]
    },
    {
      "cell_type": "code",
      "source": [
        "t = (\"1_cat\")\n",
        "type(t) == tuple"
      ],
      "metadata": {
        "id": "iaY3fMkS0RNB"
      },
      "execution_count": null,
      "outputs": []
    },
    {
      "cell_type": "code",
      "source": [
        "t = (\"1_cat\",)\n",
        "type(t) == str"
      ],
      "metadata": {
        "id": "yZ5EnUwU0caF"
      },
      "execution_count": null,
      "outputs": []
    },
    {
      "cell_type": "code",
      "execution_count": null,
      "metadata": {
        "id": "9nmVWYm7BniM"
      },
      "outputs": [],
      "source": [
        "t = (\"1_cat\")\n",
        "type(t[0][0]) == int"
      ]
    },
    {
      "cell_type": "code",
      "execution_count": null,
      "metadata": {
        "id": "APKfK-1KBniO"
      },
      "outputs": [],
      "source": [
        "val = \"cat \"\n",
        "val[-1] == \"t\""
      ]
    },
    {
      "cell_type": "code",
      "source": [
        "val1 = [1,2,3]\n",
        "val2 = [4,5,6]\n",
        "val1 + val2 == [5, 7, 9]"
      ],
      "metadata": {
        "id": "D4_Qam_UHlq8"
      },
      "execution_count": null,
      "outputs": []
    },
    {
      "cell_type": "code",
      "source": [
        "val1 = [1,2,3]\n",
        "val2 = [4,5,6]\n",
        "val1[0] + val2[0] == [1,4]"
      ],
      "metadata": {
        "id": "zQbCK4vXH7Yd"
      },
      "execution_count": null,
      "outputs": []
    },
    {
      "cell_type": "code",
      "source": [
        "val1 = [1,2,3]\n",
        "val2 = [4,5,6]\n",
        "val1[:1] + val2[:1] == 5"
      ],
      "metadata": {
        "id": "4of5hIY8ILoK"
      },
      "execution_count": null,
      "outputs": []
    },
    {
      "cell_type": "code",
      "source": [
        "val1 = \"one\"\n",
        "val2 = \"cat\"\n",
        "val1 + val2 == \"one cat\""
      ],
      "metadata": {
        "id": "5IsTJbdZIT3V"
      },
      "execution_count": null,
      "outputs": []
    },
    {
      "cell_type": "code",
      "source": [
        "val1 = \"one\"\n",
        "val2 = \"cat\"\n",
        "val1[1] + val2[1] == \"oc\""
      ],
      "metadata": {
        "id": "q8zpqrOgIrPx"
      },
      "execution_count": null,
      "outputs": []
    },
    {
      "cell_type": "markdown",
      "source": [
        "# (10 points) Exercise 2. Lists and Dictionaries"
      ],
      "metadata": {
        "id": "nBuX3wPzvPRi"
      }
    },
    {
      "cell_type": "markdown",
      "source": [
        "## 2.1\n",
        "Given two lists `a` and `b` defining two points, calculate the slope of the line defined by the points."
      ],
      "metadata": {
        "id": "eSBhM22Z2EAm"
      }
    },
    {
      "cell_type": "code",
      "source": [
        "a = [3,4]\n",
        "b = [5,9]"
      ],
      "metadata": {
        "id": "iHhYfpsWyGwZ"
      },
      "execution_count": null,
      "outputs": []
    },
    {
      "cell_type": "markdown",
      "source": [
        "## 2.2\n",
        "Edit the values assigned to the variables `first_val`, `last_val`, `min_val`, `max_val` and `length` in order to get four *You did it!* messages. Note that the original list `my_list` is modified by the instructions `my_list.sort()` and `my_list.append(0)`"
      ],
      "metadata": {
        "id": "y5hk50vs2gbm"
      }
    },
    {
      "cell_type": "code",
      "source": [
        "my_list = [3,2,1,4,5]\n",
        "my_list.sort()\n",
        "my_list.append(0)\n",
        "\n",
        "## ------ Change values in this section ------\n",
        "first_val = 3\n",
        "last_val = 5\n",
        "length = 5\n",
        "min_val = 1\n",
        "max_val = 5\n",
        "##---------------------------------------------\n",
        "\n",
        "# Conditional 1\n",
        "if my_list[0] == first_val:\n",
        "  print(\"You did it!\")\n",
        "else:\n",
        "  print(\"Try again\")\n",
        "\n",
        "\n",
        "#Conditional 2\n",
        "if my_list[-1] == last_val:\n",
        "  print(\"You did it!\")\n",
        "else:\n",
        "  print(\"Try again\")\n",
        "\n",
        "\n",
        "# Conditional 3\n",
        "if len(my_list) == length:\n",
        "  print(\"You did it!\")\n",
        "else:\n",
        "  print(\"Try again\")\n",
        "\n",
        "\n",
        "# Conditional 4\n",
        "if min(my_list) == min_val and max(my_list) == max_val:\n",
        "  print(\"You did it!\")\n",
        "else:\n",
        "  print(\"Try again\")"
      ],
      "metadata": {
        "id": "TFZW0QD22f0Y"
      },
      "execution_count": null,
      "outputs": []
    },
    {
      "cell_type": "markdown",
      "source": [
        "## 2.3\n",
        "Run the following code block to create two dictionaries"
      ],
      "metadata": {
        "id": "AL7kjWVs75dV"
      }
    },
    {
      "cell_type": "code",
      "source": [
        "station1 = {\"ID\": \"01\", \"temp\": 75, \"rain\": 25, \"Q\": 1.5}\n",
        "station2 = {\"ID\": \"02\", \"temp\": 83, \"rain\": 18, \"Q\": 1.5}"
      ],
      "metadata": {
        "id": "uV4Aab6476Ft"
      },
      "execution_count": null,
      "outputs": []
    },
    {
      "cell_type": "markdown",
      "source": [
        "Now, access the values in the dictionary using the following syntaxis: `dict[key]`. For example, to access the *key* `temp` from the station 1, use: `station1[\"temp\"]`, also check the data types (example: `type(station1[\"temp\"])`). Finally, explore the result of running the following commands:  \n",
        "`station1.keys()`  \n",
        "`station1.values()`\n"
      ],
      "metadata": {
        "id": "5-YtNPwx-lm8"
      }
    },
    {
      "cell_type": "code",
      "source": [
        "#Explore the dicts content and data types in this cell.\n",
        "# Example:\n",
        "# station1[\"temp\"]\n",
        "# type(station1[\"temp\"])"
      ],
      "metadata": {
        "id": "2B_Krn_f-k2P"
      },
      "execution_count": null,
      "outputs": []
    },
    {
      "cell_type": "markdown",
      "source": [
        "Finally, write a conditional statement (`if` - `else`) that compares the *rain* values and prints the station ID corresponding to the station with the highest rain amount"
      ],
      "metadata": {
        "id": "haDbppES_-8A"
      }
    },
    {
      "cell_type": "code",
      "source": [],
      "metadata": {
        "id": "aKfvhtZv9Wqp"
      },
      "execution_count": null,
      "outputs": []
    },
    {
      "cell_type": "markdown",
      "metadata": {
        "id": "I601A0AHBniW"
      },
      "source": [
        "## 2.4\n",
        "Define 5 variables according to the following table. Make sure to use  the variable names and data types **Exactly** as specified\n",
        "\n",
        "Variable Name | Value   | Data type\n",
        "------- | --------  | ---------\n",
        "code            | 1000              | str\n",
        "active          | True              | bool\n",
        "start_date      | 1995-01-01        | str\n",
        "end_date        | NA                | str\n",
        "total_samples   | 10500             | int\n",
        "params          | ['disch','temp','turb'] | list\n",
        "\n"
      ]
    },
    {
      "cell_type": "code",
      "execution_count": null,
      "metadata": {
        "id": "MHwtI5r-BniX"
      },
      "outputs": [],
      "source": []
    },
    {
      "cell_type": "markdown",
      "metadata": {
        "id": "JgAgXgKJBniZ"
      },
      "source": [
        "The following code block intend to create a `dictionary` using the variables created in the previous step. However, the code contains two errors. Fix the errors to get the desired result.  \n",
        "*Hint: Execute the code with the errors to see the error message which should be helpful to spot the problem*"
      ]
    },
    {
      "cell_type": "code",
      "execution_count": null,
      "metadata": {
        "id": "B0-9Ek4yBnia"
      },
      "outputs": [],
      "source": [
        "st_metadata = {\"Code\": code, \"Active\": active, \"Start\":start_date, End: end_date, \"Samples\" : total_samples, \"Params\"= params}\n",
        "st_metadata"
      ]
    },
    {
      "cell_type": "markdown",
      "source": [
        "## 2.5\n",
        "In the following cell a dictionary `my_dict` is defined with some `key:value` pairs. Include additional lines of code as required to obtain three `True` prints after executed the cell. *Do not modify the lines of code provided*. Just include additional lines wherever are needed"
      ],
      "metadata": {
        "id": "8Bc0hq68Sjk5"
      }
    },
    {
      "cell_type": "code",
      "source": [
        "my_dict = { \"a\": 1, \"b\": [2], \"c\": \"3\" }\n",
        "my_dict[\"d\"] = 4.0\n",
        "my_dict[\"d\"] = str(my_dict[\"d\"])\n",
        "my_dict[\"e\"] = [1]\n",
        "\n",
        "print(type(my_dict[\"e\"]) == list)\n",
        "\n",
        "print(my_dict[\"d\"] == \"4\")\n",
        "\n",
        "print(my_dict[\"a\"] + my_dict[\"b\"] + my_dict[\"c\"] + my_dict[\"d\"] == 10)\n"
      ],
      "metadata": {
        "id": "5lc4ns66SkPF"
      },
      "execution_count": null,
      "outputs": []
    },
    {
      "cell_type": "markdown",
      "source": [
        "# (*optional*) Exercise 3. Loops"
      ],
      "metadata": {
        "id": "HE9GHBd5Ri70"
      }
    },
    {
      "cell_type": "markdown",
      "source": [
        "## 3.1\n",
        "The following loop computes and prints the square of the numbers stored in a list. Modify the code inside the loop in order to preserve the sign of the input value. That is, for the values `3` and `-3` the results should be `9` and `-9` respectively.  \n",
        "*Hint: Use a conditional statement*"
      ],
      "metadata": {
        "id": "DlpeLU8wF7Zx"
      }
    },
    {
      "cell_type": "code",
      "source": [
        "for i in [-3,-2,-1,0,1,2,3]:\n",
        "  result = i**2\n",
        "  print(result)\n"
      ],
      "metadata": {
        "id": "sMnR2HLiHAbV"
      },
      "execution_count": null,
      "outputs": []
    },
    {
      "cell_type": "markdown",
      "source": [
        "## 3.2\n",
        "Write a loop that makes seven calls to `print()`, so we get on the output the following triangle:  \n",
        "#\n",
        "##\n",
        "###\n",
        "####\n",
        "#####\n",
        "######\n",
        "#######"
      ],
      "metadata": {
        "id": "M5-X9-niPhuX"
      }
    },
    {
      "cell_type": "code",
      "source": [],
      "metadata": {
        "id": "Cy0vMkyQYdoU"
      },
      "execution_count": null,
      "outputs": []
    },
    {
      "cell_type": "markdown",
      "source": [
        "## 3.3\n",
        "Use a loop to reverse the order of the list provided"
      ],
      "metadata": {
        "id": "J-x6PqyLSNvw"
      }
    },
    {
      "cell_type": "code",
      "source": [
        "l = [1,2,3,4,5]\n"
      ],
      "metadata": {
        "id": "CFNSRz6kOOl9"
      },
      "execution_count": null,
      "outputs": []
    },
    {
      "cell_type": "markdown",
      "source": [
        "## 3.4\n",
        "Write a loop to create the following pattern.  \n",
        "*Hint: The code below creates half of the pattern*"
      ],
      "metadata": {
        "id": "TZC_TSsQWI6G"
      }
    },
    {
      "cell_type": "markdown",
      "source": [
        "\n",
        "\n",
        "```\n",
        "###########\n",
        " #########\n",
        "  #######\n",
        "   #####\n",
        "    ###\n",
        "     #\n",
        "    ###\n",
        "   #####\n",
        "  #######\n",
        " #########\n",
        "###########\n",
        "```\n",
        "\n"
      ],
      "metadata": {
        "id": "mIE9vdThVlVr"
      }
    },
    {
      "cell_type": "code",
      "source": [
        "base = 11\n",
        "char = \"#\"\n",
        "\n",
        "len_char = base\n",
        "len_blank = 0\n",
        "for i in range(6):\n",
        "  line = \" \" * len_blank + char * len_char\n",
        "  print(line)\n",
        "  len_blank = len_blank + 1\n",
        "  len_char = len_char - 2\n"
      ],
      "metadata": {
        "id": "_vy6FmcRSX_z"
      },
      "execution_count": null,
      "outputs": []
    },
    {
      "cell_type": "markdown",
      "source": [
        "# (*optional*) Exercise 4. Functions"
      ],
      "metadata": {
        "id": "rfRc9JXVTaLw"
      }
    },
    {
      "cell_type": "markdown",
      "source": [
        "The following function takes in a list (of any length) and returns a dictionary with some basic statistics. So far, the returned dictionary only contains the min and max values. Execute the cell to define the function so it can be used in other cells below    "
      ],
      "metadata": {
        "id": "rSfhPiVSTd2i"
      }
    },
    {
      "cell_type": "code",
      "source": [
        "\n",
        "def get_statistics(list_of_values):\n",
        "  # Create an empty dict to store the output values\n",
        "  stat_dict = {}\n",
        "\n",
        "  #Compute statistics\n",
        "  min_val = min(list_of_values)\n",
        "  max_val = max(list_of_values)\n",
        "\n",
        "  #Store statistics in the output dict\n",
        "  stat_dict[\"min\"] = min_val\n",
        "  stat_dict[\"max\"] = max_val\n",
        "\n",
        "  # Finalize function and specify the output variable\n",
        "  return stat_dict\n"
      ],
      "metadata": {
        "id": "ZzmA9c89TdNv"
      },
      "execution_count": null,
      "outputs": []
    },
    {
      "cell_type": "markdown",
      "source": [
        "To test the function, run the following code and explore the resulting dict"
      ],
      "metadata": {
        "id": "qUs116IObWFo"
      }
    },
    {
      "cell_type": "code",
      "source": [
        "input_list = [3, 76, 4, 97, 53, 2, 6, 5]\n",
        "stats = get_statistics(list_of_values = input_list)\n",
        "stats"
      ],
      "metadata": {
        "id": "M28g6chdbVug"
      },
      "execution_count": null,
      "outputs": []
    },
    {
      "cell_type": "markdown",
      "source": [
        "Complement the function in the cell below in order to include the *mean* and *median* of the input values in the returned dictionary `stat_dict`. Note that the definition of the *median* value depends on whether the number of elements in the list is even or odd. For an odd set of numbers, the median is the value in the middle. For an even set of numbers, there is no middle point and the median is defined as the average of the two middle values.  "
      ],
      "metadata": {
        "id": "XAK82Q_CbGcx"
      }
    },
    {
      "cell_type": "code",
      "source": [
        "\n",
        "def get_statistics_expanded(list_of_values):\n",
        "  # Create an empty dict to store the output values\n",
        "  stat_dict = {}\n",
        "\n",
        "  #Compute statistics\n",
        "  min_val = min(list_of_values)\n",
        "  max_val = max(list_of_values)\n",
        "\n",
        "  #Store statistics in the output dict\n",
        "  stat_dict[\"min\"] = min_val\n",
        "  stat_dict[\"max\"] = max_val\n",
        "\n",
        "  # Finalize function and specify the output variable\n",
        "  return stat_dict\n",
        "\n"
      ],
      "metadata": {
        "id": "a2Chd-3qbGAX"
      },
      "execution_count": null,
      "outputs": []
    },
    {
      "cell_type": "markdown",
      "source": [
        "Check your function in the next cell"
      ],
      "metadata": {
        "id": "e-0PLG6ZMwya"
      }
    },
    {
      "cell_type": "code",
      "source": [
        "input_list = [3, 76, 4, 97, 53, 2, 6, 5]\n",
        "stats_expanded = get_statistics_expanded(list_of_values = input_list)\n",
        "stats_expanded"
      ],
      "metadata": {
        "id": "xq2PXEUMMrvO"
      },
      "execution_count": null,
      "outputs": []
    }
  ],
  "metadata": {
    "kernelspec": {
      "display_name": "HysteresisPaper",
      "language": "python",
      "name": "python3"
    },
    "language_info": {
      "codemirror_mode": {
        "name": "ipython",
        "version": 3
      },
      "file_extension": ".py",
      "mimetype": "text/x-python",
      "name": "python",
      "nbconvert_exporter": "python",
      "pygments_lexer": "ipython3",
      "version": "3.9.7"
    },
    "orig_nbformat": 4,
    "colab": {
      "provenance": [],
      "include_colab_link": true
    }
  },
  "nbformat": 4,
  "nbformat_minor": 0
}