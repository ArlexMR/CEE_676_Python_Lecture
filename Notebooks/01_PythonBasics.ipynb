{
  "nbformat": 4,
  "nbformat_minor": 0,
  "metadata": {
    "colab": {
      "provenance": []
    },
    "kernelspec": {
      "name": "python3",
      "display_name": "Python 3"
    },
    "language_info": {
      "name": "python"
    }
  },
  "cells": [
    {
      "cell_type": "markdown",
      "source": [
        "# Introduction\n",
        "\n",
        "These notebooks are designed to give you a very basic overview of computer coding in python to conduct analyses of hydrologic data.\n",
        "\n",
        "A notebook is an interactive, \"live\" document, where you can describe the code you are creating, run the code, and analyze the outputs.\n",
        "\n",
        "Notebooks, including Google Collab, Jupyter Notebooks, and RNotebooks, are becoming increasingly popular in engineering and data science for creating reproduceable and efficicent code.\n",
        "\n",
        "Many of the analyses conducted in this notebook can be completed in Excel. You will see, however, that several functions that have already been written in python are very powerful, and can directly be applied to data science in hydrology. While there is a large learning curve, there is also a large amount of tools that can be accessed via python and R that aren't accessible through excel.\n",
        "\n",
        "\n",
        "# Notebook 1\n",
        "\n",
        "This notebook goes over the very basic operations that can be completed in python."
      ],
      "metadata": {
        "id": "a0JUMsPn4-lC"
      }
    },
    {
      "cell_type": "markdown",
      "source": [
        "# Variables and assignment"
      ],
      "metadata": {
        "id": "ZXm1HaQyvOMI"
      }
    },
    {
      "cell_type": "markdown",
      "source": [
        "In Python,\n",
        "variables are defined using the symbol `=`  \n"
      ],
      "metadata": {
        "id": "j9bZF7H_wCw7"
      }
    },
    {
      "cell_type": "code",
      "execution_count": null,
      "metadata": {
        "id": "epiwzuMPvGnA"
      },
      "outputs": [],
      "source": [
        "my_variable = 1"
      ]
    },
    {
      "cell_type": "markdown",
      "source": [
        "you can show the content* of a variable just by writing its name:\n",
        "\n",
        "**Actually variables are not containers but pointers*. See below"
      ],
      "metadata": {
        "id": "qygWjk4Wxq1F"
      }
    },
    {
      "cell_type": "code",
      "source": [
        "my_variable"
      ],
      "metadata": {
        "id": "k904l4cow19a",
        "colab": {
          "base_uri": "https://localhost:8080/"
        },
        "outputId": "6ccecb48-185d-4ac8-b897-39e518b9de99"
      },
      "execution_count": null,
      "outputs": [
        {
          "output_type": "execute_result",
          "data": {
            "text/plain": [
              "1"
            ]
          },
          "metadata": {},
          "execution_count": 2
        }
      ]
    },
    {
      "cell_type": "markdown",
      "source": [
        "but it only works if it's placed in the last line:"
      ],
      "metadata": {
        "id": "m9HWp63yyRYC"
      }
    },
    {
      "cell_type": "code",
      "source": [
        "my_variable\n",
        "another_variable = 2\n"
      ],
      "metadata": {
        "id": "uV1N2lqbya2I"
      },
      "execution_count": null,
      "outputs": []
    },
    {
      "cell_type": "markdown",
      "source": [
        "A prefered and more versatile way for showing information is using the *function* `print()`\n",
        "\n",
        "A *function* is a process which takes in a variable, and outputs something new."
      ],
      "metadata": {
        "id": "kEhsxfAoyyNW"
      }
    },
    {
      "cell_type": "code",
      "source": [
        "print(my_variable)\n",
        "latest_variable = 3\n",
        "print(latest_variable)\n"
      ],
      "metadata": {
        "id": "3a6BUT5DxgiZ",
        "colab": {
          "base_uri": "https://localhost:8080/"
        },
        "outputId": "2b5d3bf0-3a48-4e9c-a959-cbc82142e261"
      },
      "execution_count": null,
      "outputs": [
        {
          "output_type": "stream",
          "name": "stdout",
          "text": [
            "1\n",
            "3\n"
          ]
        }
      ]
    },
    {
      "cell_type": "markdown",
      "source": [
        "Often times computer programs will write in short hand notations. There are multiple reasons for this (i.e., iterating through a list, compacting code, etc).\n",
        "\n",
        "Using a \"#\" we can write in comments, basically telling the user what the lines of code are doing."
      ],
      "metadata": {
        "id": "9senfab37MJX"
      }
    },
    {
      "cell_type": "code",
      "source": [
        "# Updating a variable\n",
        "x = 10\n",
        "x += 5 # equivalent to x = x + 5\n",
        "x"
      ],
      "metadata": {
        "id": "WHQuHHZ-ciVC",
        "colab": {
          "base_uri": "https://localhost:8080/"
        },
        "outputId": "b2b8f7df-cc75-4f7a-f2cc-cb9326ecb740"
      },
      "execution_count": null,
      "outputs": [
        {
          "output_type": "execute_result",
          "data": {
            "text/plain": [
              "15"
            ]
          },
          "metadata": {},
          "execution_count": 5
        }
      ]
    },
    {
      "cell_type": "code",
      "source": [
        "x = 10\n",
        "x *= 3 # x = x*3\n",
        "x"
      ],
      "metadata": {
        "id": "pfCIfdBqdJHj",
        "colab": {
          "base_uri": "https://localhost:8080/"
        },
        "outputId": "a6c71fe3-2297-4044-97f0-c8fadb51b67d"
      },
      "execution_count": null,
      "outputs": [
        {
          "output_type": "execute_result",
          "data": {
            "text/plain": [
              "30"
            ]
          },
          "metadata": {},
          "execution_count": 6
        }
      ]
    },
    {
      "cell_type": "markdown",
      "source": [
        "# 2. Data Types\n",
        "\n",
        "Python has the following data types built-in by default. A *data type* allows you to assign certain things in variables (e.g., text, numbers, numbers with decimals, TRUE/FALSE statements, etc.)\n",
        "\n",
        "Category | Data types\n",
        "--|--\n",
        "Text Type: | str\n",
        "Numeric Types: |\tint, float, complex\n",
        "Boolean Type:\t| bool\n",
        "Sequence Types: |\tlist, tuple, range\n",
        "Mapping Type:\t| dict\n",
        "Set Types:\t| set, frozenset\n",
        "Binary Types:\t| bytes, bytearray, memoryview\n",
        "None Type:\t| NoneType\n",
        "\n",
        "The data type stored in a variable can be accessed using the function `type()`"
      ],
      "metadata": {
        "id": "mKVUeEhKz_Ax"
      }
    },
    {
      "cell_type": "markdown",
      "source": [
        "## Strings, numeric and boolean"
      ],
      "metadata": {
        "id": "OoLdKeqZYZsA"
      }
    },
    {
      "cell_type": "code",
      "source": [
        "print(my_text)"
      ],
      "metadata": {
        "id": "LfuDcldvEIpr"
      },
      "execution_count": null,
      "outputs": []
    },
    {
      "cell_type": "code",
      "source": [
        "# Text type variables\n",
        "my_text = 'Hello World!'\n",
        "another_text = \"Goodbye world!\"\n",
        "\n",
        "print('Text variables: \\n')\n",
        "print('my_text is a:', type(my_text))\n",
        "print('another_text is a:',type(another_text))\n",
        "\n"
      ],
      "metadata": {
        "id": "0CYJwGR4zD54",
        "colab": {
          "base_uri": "https://localhost:8080/"
        },
        "outputId": "c3479383-66ed-4f84-c810-4cf47ccfdc9a"
      },
      "execution_count": null,
      "outputs": [
        {
          "output_type": "stream",
          "name": "stdout",
          "text": [
            "Text variables: \n",
            "\n",
            "my_text is a: <class 'str'>\n",
            "another_text is a: <class 'str'>\n"
          ]
        }
      ]
    },
    {
      "cell_type": "code",
      "source": [
        "# Numeric Type Variables\n",
        "my_integer = 5\n",
        "my_float = 5.\n",
        "my_complex = 3j +5\n",
        "\n",
        "print('Numeric type variables: \\n')\n",
        "\n",
        "print('my_integer is a', type(my_integer), 'xxx', sep = '\\n')\n",
        "\n",
        "print('my_float is a', type(my_float),sep = '\\t')\n",
        "\n",
        "print('my_complex is a', type(my_complex), 'equal to:', my_complex)"
      ],
      "metadata": {
        "id": "cK5I3ZxF7X9M",
        "colab": {
          "base_uri": "https://localhost:8080/"
        },
        "outputId": "4ed7e1cc-4fea-4a86-d225-b86b64428f62"
      },
      "execution_count": null,
      "outputs": [
        {
          "output_type": "stream",
          "name": "stdout",
          "text": [
            "Numeric type variables: \n",
            "\n",
            "my_integer is a\n",
            "<class 'int'>\n",
            "xxx\n",
            "my_float is a\t<class 'float'>\n",
            "my_complex is a <class 'complex'> equal to: (5+3j)\n"
          ]
        }
      ]
    },
    {
      "cell_type": "code",
      "source": [
        "true =1\n",
        "x = true\n",
        "x"
      ],
      "metadata": {
        "id": "e3oqKYOoFaQT",
        "colab": {
          "base_uri": "https://localhost:8080/"
        },
        "outputId": "eb91a77e-a3cb-4a12-c6bb-3b23d9ffda92"
      },
      "execution_count": null,
      "outputs": [
        {
          "output_type": "execute_result",
          "data": {
            "text/plain": [
              "1"
            ]
          },
          "metadata": {},
          "execution_count": 10
        }
      ]
    },
    {
      "cell_type": "code",
      "source": [
        "# Boolean data types\n",
        "my_true_bool = True\n",
        "my_false_bool = False\n",
        "\n",
        "print('Boolean type variables: \\n')\n",
        "print('my_true_bool is a', type(my_true_bool))\n",
        "print('my_false_bool is a', type(my_false_bool))\n"
      ],
      "metadata": {
        "id": "6eCcQkea8Vgp",
        "colab": {
          "base_uri": "https://localhost:8080/"
        },
        "outputId": "043a1e56-7e6b-4f35-9080-3e56891e50ae"
      },
      "execution_count": null,
      "outputs": [
        {
          "output_type": "stream",
          "name": "stdout",
          "text": [
            "Boolean type variables: \n",
            "\n",
            "my_true_bool is a <class 'bool'>\n",
            "my_false_bool is a <class 'bool'>\n"
          ]
        }
      ]
    },
    {
      "cell_type": "markdown",
      "source": [
        "## Sequences"
      ],
      "metadata": {
        "id": "qOvGfj3QZJwk"
      }
    },
    {
      "cell_type": "code",
      "source": [
        "# Sequence data types:\n",
        "\n",
        "my_list = [1, 2, 3, 4, 5]\n",
        "my_tuple = (1, 2, 3, 4, 5)\n",
        "my_range = range(1,6)\n",
        "\n",
        "print('my_list is a', type(my_list), 'equal to:', my_list )\n",
        "print('my_tuple is a', type(my_tuple), 'equal to:', my_tuple )\n",
        "print('my_range is a', type(my_range), 'equal to:', my_range )"
      ],
      "metadata": {
        "id": "bZbD_cnb4TF5",
        "colab": {
          "base_uri": "https://localhost:8080/"
        },
        "outputId": "f0cb0db0-1baf-4d23-b9aa-762c44531c4c"
      },
      "execution_count": null,
      "outputs": [
        {
          "output_type": "stream",
          "name": "stdout",
          "text": [
            "my_list is a <class 'list'> equal to: [1, 2, 3, 4, 5]\n",
            "my_tuple is a <class 'tuple'> equal to: (1, 2, 3, 4, 5)\n",
            "my_range is a <class 'range'> equal to: range(1, 6)\n"
          ]
        }
      ]
    },
    {
      "cell_type": "markdown",
      "source": [
        "Elements can be accessed using `[ ]`:  \n",
        "**IMPORTANT:** Python uses **zero-based indexing** which means that the first element has index 0, the second element has index 1, and so on."
      ],
      "metadata": {
        "id": "oONvFcJG-4lm"
      }
    },
    {
      "cell_type": "code",
      "source": [
        "first_element = my_list[0]\n",
        "print('First element:',first_element) #list\n",
        "\n",
        "print('Second element:',my_tuple[1]) # tuple\n",
        "print('Third element:',my_range[2]) # range\n",
        "\n",
        "print('last element:', my_list[-1]) # list\n",
        "print('penultimate',my_tuple[-2]) # tuple\n",
        "print('Last element in range',my_range[-1]) # range"
      ],
      "metadata": {
        "id": "eceUiTJj_LPO",
        "colab": {
          "base_uri": "https://localhost:8080/"
        },
        "outputId": "21ae92d6-102f-4816-e7d2-72696a4bae22"
      },
      "execution_count": null,
      "outputs": [
        {
          "output_type": "stream",
          "name": "stdout",
          "text": [
            "First element: 1\n",
            "Second element: 2\n",
            "Third element: 3\n",
            "last element: 5\n",
            "penultimate 4\n",
            "Last element in range 5\n"
          ]
        }
      ]
    },
    {
      "cell_type": "markdown",
      "source": [
        "### Slicing sequences\n",
        "Slicing is used for extracting a portion of a sequence:\n",
        "```python  \n",
        "my_list[start:stop]\n",
        "```\n",
        "This will extract a sequence corresponding to the interval: `[start, stop)` being `start` and `stop` indexes  \n",
        "\n",
        "Another function, *range* will automatically create an array of numbers between a specified start and stop at a specified interval."
      ],
      "metadata": {
        "id": "5UWJno3LgbVx"
      }
    },
    {
      "cell_type": "code",
      "source": [
        "a_range = range(0, 100, 10)\n",
        "l = list(a_range)\n",
        "print(l)\n",
        "\n",
        "l[2:4]"
      ],
      "metadata": {
        "id": "vCqjIz4TjQMP",
        "colab": {
          "base_uri": "https://localhost:8080/"
        },
        "outputId": "ed1bc326-0394-4f04-b793-ff8de9d52e09"
      },
      "execution_count": null,
      "outputs": [
        {
          "output_type": "stream",
          "name": "stdout",
          "text": [
            "[0, 10, 20, 30, 40, 50, 60, 70, 80, 90]\n"
          ]
        },
        {
          "output_type": "execute_result",
          "data": {
            "text/plain": [
              "[20, 30]"
            ]
          },
          "metadata": {},
          "execution_count": 14
        }
      ]
    },
    {
      "cell_type": "markdown",
      "source": [
        "\n",
        "If `start/stop` are omitted the slicing will go from/to the first/last element\n"
      ],
      "metadata": {
        "id": "UazPPKVAhCs2"
      }
    },
    {
      "cell_type": "code",
      "source": [
        "print(l)\n",
        "l[:4]"
      ],
      "metadata": {
        "id": "eFO-2ZCpl2i4",
        "colab": {
          "base_uri": "https://localhost:8080/"
        },
        "outputId": "885201d4-db37-4191-8f64-11f98a1d9020"
      },
      "execution_count": null,
      "outputs": [
        {
          "output_type": "stream",
          "name": "stdout",
          "text": [
            "[0, 10, 20, 30, 40, 50, 60, 70, 80, 90]\n"
          ]
        },
        {
          "output_type": "execute_result",
          "data": {
            "text/plain": [
              "[0, 10, 20, 30]"
            ]
          },
          "metadata": {},
          "execution_count": 15
        }
      ]
    },
    {
      "cell_type": "code",
      "source": [
        "print(l)\n",
        "l[4:]"
      ],
      "metadata": {
        "id": "MlHv2fo0mzfX",
        "colab": {
          "base_uri": "https://localhost:8080/"
        },
        "outputId": "5a209064-a153-4a51-9d92-b73fda30f56e"
      },
      "execution_count": null,
      "outputs": [
        {
          "output_type": "stream",
          "name": "stdout",
          "text": [
            "[0, 10, 20, 30, 40, 50, 60, 70, 80, 90]\n"
          ]
        },
        {
          "output_type": "execute_result",
          "data": {
            "text/plain": [
              "[40, 50, 60, 70, 80, 90]"
            ]
          },
          "metadata": {},
          "execution_count": 16
        }
      ]
    },
    {
      "cell_type": "code",
      "source": [
        "print(l)\n",
        "l[4:-1]"
      ],
      "metadata": {
        "id": "SK-GOPi0BRUN",
        "colab": {
          "base_uri": "https://localhost:8080/"
        },
        "outputId": "d35b7b4e-2896-489f-d502-a94a15c5a1cb"
      },
      "execution_count": null,
      "outputs": [
        {
          "output_type": "stream",
          "name": "stdout",
          "text": [
            "[0, 10, 20, 30, 40, 50, 60, 70, 80, 90]\n"
          ]
        },
        {
          "output_type": "execute_result",
          "data": {
            "text/plain": [
              "[40, 50, 60, 70, 80]"
            ]
          },
          "metadata": {},
          "execution_count": 17
        }
      ]
    },
    {
      "cell_type": "markdown",
      "source": [
        "A `step` can also be included within your slice:  \n",
        "\n",
        "```python\n",
        "my_list[start:stop:step]\n",
        "```"
      ],
      "metadata": {
        "id": "XGlWh7G-hIcR"
      }
    },
    {
      "cell_type": "code",
      "source": [
        "print(l)\n",
        "l[2:6:2]"
      ],
      "metadata": {
        "id": "Ie8alD61m3-N",
        "colab": {
          "base_uri": "https://localhost:8080/"
        },
        "outputId": "f07e6ba9-2450-4c6b-970a-ebcef2de3a23"
      },
      "execution_count": null,
      "outputs": [
        {
          "output_type": "stream",
          "name": "stdout",
          "text": [
            "[0, 10, 20, 30, 40, 50, 60, 70, 80, 90]\n"
          ]
        },
        {
          "output_type": "execute_result",
          "data": {
            "text/plain": [
              "[20, 40]"
            ]
          },
          "metadata": {},
          "execution_count": 18
        }
      ]
    },
    {
      "cell_type": "markdown",
      "source": [
        "This is a nice way to invert the order of elements"
      ],
      "metadata": {
        "id": "KoCOkmIs_TiJ"
      }
    },
    {
      "cell_type": "code",
      "source": [
        "print(l)\n",
        "l[::-1]"
      ],
      "metadata": {
        "id": "ozqxh5VjoQb1",
        "colab": {
          "base_uri": "https://localhost:8080/"
        },
        "outputId": "90a8d4c9-a188-4d19-e9bf-46d49128503f"
      },
      "execution_count": null,
      "outputs": [
        {
          "output_type": "stream",
          "name": "stdout",
          "text": [
            "[0, 10, 20, 30, 40, 50, 60, 70, 80, 90]\n"
          ]
        },
        {
          "output_type": "execute_result",
          "data": {
            "text/plain": [
              "[90, 80, 70, 60, 50, 40, 30, 20, 10, 0]"
            ]
          },
          "metadata": {},
          "execution_count": 19
        }
      ]
    },
    {
      "cell_type": "markdown",
      "source": [
        "Out-of-range **slicing** are permitted"
      ],
      "metadata": {
        "id": "Z4P6Ipkjjd6r"
      }
    },
    {
      "cell_type": "code",
      "source": [
        "len(l)"
      ],
      "metadata": {
        "id": "icYpMHRhJQtb",
        "colab": {
          "base_uri": "https://localhost:8080/"
        },
        "outputId": "509193a0-e445-485e-dadf-8aa260b81c30"
      },
      "execution_count": null,
      "outputs": [
        {
          "output_type": "execute_result",
          "data": {
            "text/plain": [
              "10"
            ]
          },
          "metadata": {},
          "execution_count": 20
        }
      ]
    },
    {
      "cell_type": "code",
      "source": [
        "print(l)\n",
        "l[9:20]"
      ],
      "metadata": {
        "id": "99jFJlbXs6r6",
        "colab": {
          "base_uri": "https://localhost:8080/"
        },
        "outputId": "95ea3353-a45a-4f16-859b-b3c800155287"
      },
      "execution_count": null,
      "outputs": [
        {
          "output_type": "stream",
          "name": "stdout",
          "text": [
            "[0, 10, 20, 30, 40, 50, 60, 70, 80, 90]\n"
          ]
        },
        {
          "output_type": "execute_result",
          "data": {
            "text/plain": [
              "[90]"
            ]
          },
          "metadata": {},
          "execution_count": 21
        }
      ]
    },
    {
      "cell_type": "code",
      "source": [
        "print(l)\n",
        "l[10:20]"
      ],
      "metadata": {
        "id": "eur-oPpotMAt",
        "colab": {
          "base_uri": "https://localhost:8080/"
        },
        "outputId": "1f7e1678-eab8-46b1-c508-2ef33165e5df"
      },
      "execution_count": null,
      "outputs": [
        {
          "output_type": "stream",
          "name": "stdout",
          "text": [
            "[0, 10, 20, 30, 40, 50, 60, 70, 80, 90]\n"
          ]
        },
        {
          "output_type": "execute_result",
          "data": {
            "text/plain": [
              "[]"
            ]
          },
          "metadata": {},
          "execution_count": 23
        }
      ]
    },
    {
      "cell_type": "markdown",
      "source": [
        "But not so with out-of-range **indexes**"
      ],
      "metadata": {
        "id": "bvL47WIQjohf"
      }
    },
    {
      "cell_type": "code",
      "source": [
        "print(l)\n",
        "l[10]"
      ],
      "metadata": {
        "id": "lHcCTBGetUar"
      },
      "execution_count": null,
      "outputs": []
    },
    {
      "cell_type": "markdown",
      "source": [
        "Indexing also works with strings"
      ],
      "metadata": {
        "id": "-uB_RwyHCnbf"
      }
    },
    {
      "cell_type": "code",
      "source": [
        "text = 'abcd efghi'\n",
        "print(text)\n",
        "print(text[0:4])\n",
        "print(text[4:7])\n"
      ],
      "metadata": {
        "id": "Wa5znEZ6Crwh",
        "colab": {
          "base_uri": "https://localhost:8080/"
        },
        "outputId": "9638b7a6-4429-4975-a9a7-c73bc59ef9bd"
      },
      "execution_count": null,
      "outputs": [
        {
          "output_type": "stream",
          "name": "stdout",
          "text": [
            "abcd efghi\n",
            "abcd\n",
            " ef\n"
          ]
        }
      ]
    },
    {
      "cell_type": "markdown",
      "source": [
        "### Slice assignment"
      ],
      "metadata": {
        "id": "_f_-9DgIsIVc"
      }
    },
    {
      "cell_type": "code",
      "source": [
        "l  = [0, 10, 20, 30, 40, 50, 60]\n",
        "print(l)\n",
        "l[1] = 1000\n",
        "l"
      ],
      "metadata": {
        "id": "hC_lOTNDsQ-Q",
        "colab": {
          "base_uri": "https://localhost:8080/"
        },
        "outputId": "1999e316-27f9-4bd0-fdcf-3e025e8558de"
      },
      "execution_count": null,
      "outputs": [
        {
          "output_type": "stream",
          "name": "stdout",
          "text": [
            "[0, 10, 20, 30, 40, 50, 60]\n"
          ]
        },
        {
          "output_type": "execute_result",
          "data": {
            "text/plain": [
              "[0, 1000, 20, 30, 40, 50, 60]"
            ]
          },
          "metadata": {},
          "execution_count": 27
        }
      ]
    },
    {
      "cell_type": "code",
      "source": [
        "\n",
        "l[2:5] = [2000, 3000, 4000]\n",
        "l"
      ],
      "metadata": {
        "id": "EwkiKUkxt8HS",
        "colab": {
          "base_uri": "https://localhost:8080/"
        },
        "outputId": "e420dfd9-5414-4e8d-ee78-fbe0a680258d"
      },
      "execution_count": null,
      "outputs": [
        {
          "output_type": "execute_result",
          "data": {
            "text/plain": [
              "[0, 1000, 2000, 3000, 4000, 50, 60]"
            ]
          },
          "metadata": {},
          "execution_count": 28
        }
      ]
    },
    {
      "cell_type": "code",
      "source": [
        "\n",
        "l[2:5] = [-1]\n",
        "l"
      ],
      "metadata": {
        "id": "Bq8aHIY3sLmZ",
        "colab": {
          "base_uri": "https://localhost:8080/"
        },
        "outputId": "4310e5ae-4c4a-43bc-db4f-e42e98a6e842"
      },
      "execution_count": null,
      "outputs": [
        {
          "output_type": "execute_result",
          "data": {
            "text/plain": [
              "[0, 1000, -1, 50, 60]"
            ]
          },
          "metadata": {},
          "execution_count": 29
        }
      ]
    },
    {
      "cell_type": "code",
      "source": [
        "l[2:5] = 1"
      ],
      "metadata": {
        "id": "kC57ylxbs26S"
      },
      "execution_count": null,
      "outputs": []
    },
    {
      "cell_type": "markdown",
      "source": [
        "Lists and tuples can store a mixture of elements:"
      ],
      "metadata": {
        "id": "eBW59K8qAZxP"
      }
    },
    {
      "cell_type": "code",
      "source": [
        "a_crazy_list = [my_float, my_text, my_integer, my_tuple, my_range, my_list]\n",
        "print(a_crazy_list, end = '\\n\\n')\n",
        "\n",
        "print(a_crazy_list[3], end = '\\n\\n')\n",
        "\n",
        "print(a_crazy_list[3][1], end = '\\n\\n')\n",
        "\n",
        "print(a_crazy_list[2:4])"
      ],
      "metadata": {
        "id": "7onlFS7fAb3o",
        "colab": {
          "base_uri": "https://localhost:8080/"
        },
        "outputId": "2a7b7b0d-7615-49c8-d2b8-75d03d370cae"
      },
      "execution_count": null,
      "outputs": [
        {
          "output_type": "stream",
          "name": "stdout",
          "text": [
            "[5.0, 'Hello World!', 5, (1, 2, 3, 4, 5), range(1, 6), [1, 2, 3, 4, 5]]\n",
            "\n",
            "(1, 2, 3, 4, 5)\n",
            "\n",
            "2\n",
            "\n",
            "[5, (1, 2, 3, 4, 5)]\n"
          ]
        }
      ]
    },
    {
      "cell_type": "code",
      "source": [
        "another_tuple = (my_float, my_text, my_integer, my_tuple, my_range)\n",
        "another_tuple\n"
      ],
      "metadata": {
        "id": "2lMZHx6m--7m",
        "colab": {
          "base_uri": "https://localhost:8080/"
        },
        "outputId": "3e2c8a3a-060b-4adf-d288-2137eaf9de03"
      },
      "execution_count": null,
      "outputs": [
        {
          "output_type": "execute_result",
          "data": {
            "text/plain": [
              "(5.0, 'Hello World!', 5, (1, 2, 3, 4, 5), range(1, 6))"
            ]
          },
          "metadata": {},
          "execution_count": 33
        }
      ]
    },
    {
      "cell_type": "markdown",
      "source": [
        "So, What's the difference between tuples and lists? Look:"
      ],
      "metadata": {
        "id": "-ylXSP29CF74"
      }
    },
    {
      "cell_type": "code",
      "source": [
        "l  = [0, 10, 20, 30, 40, 50, 60]\n",
        "print(l)\n",
        "l[1] = 1000\n",
        "l"
      ],
      "metadata": {
        "id": "lo3MDoPkrOqm",
        "colab": {
          "base_uri": "https://localhost:8080/"
        },
        "outputId": "ec055410-cdc5-4710-abe9-bf3295283c46"
      },
      "execution_count": null,
      "outputs": [
        {
          "output_type": "stream",
          "name": "stdout",
          "text": [
            "[0, 10, 20, 30, 40, 50, 60]\n"
          ]
        },
        {
          "output_type": "execute_result",
          "data": {
            "text/plain": [
              "[0, 1000, 20, 30, 40, 50, 60]"
            ]
          },
          "metadata": {},
          "execution_count": 34
        }
      ]
    },
    {
      "cell_type": "code",
      "source": [
        "t = (0, 10, 20, 30, 40, 50, 60)\n",
        "t[1] = 1000"
      ],
      "metadata": {
        "id": "vZxTOC5hrTJB"
      },
      "execution_count": null,
      "outputs": []
    },
    {
      "cell_type": "markdown",
      "source": [
        "Tuples are immutable elements. That is, its content can NOT be changed"
      ],
      "metadata": {
        "id": "xenbv2IKvCLg"
      }
    },
    {
      "cell_type": "markdown",
      "source": [
        "**WARNING:**\n",
        "In general, variable names in python are pointers instead of containers, which means that they don't actually store the data, but points to the bucket where data is stored. As a consequence, if you have two variables pointing to the same bucket (piece of data) and change one of them, the other may change:"
      ],
      "metadata": {
        "id": "hXyHvXAAWZa1"
      }
    },
    {
      "cell_type": "code",
      "source": [
        "x = [0,1,2]\n",
        "y = x\n",
        "x[2] = 999 # Changing only x\n",
        "print('x: ', x)\n",
        "print('y: ', y, 'also changed!')"
      ],
      "metadata": {
        "id": "wNO5LD2_CKWs"
      },
      "execution_count": null,
      "outputs": []
    },
    {
      "cell_type": "markdown",
      "source": [
        "Note, this some languages are impacted by this, some aren't. For example, in R y would remain [0, 1, 2].\n",
        "\n",
        "Also, with certain data types you don't see this behavior:"
      ],
      "metadata": {
        "id": "X-5-CrvVXmT_"
      }
    },
    {
      "cell_type": "code",
      "source": [
        "x = 1\n",
        "y = x\n",
        "print('x: ', x)\n",
        "print('y: ', y)\n",
        "\n",
        "x = 'Hello world!'\n",
        "\n",
        "print('x: ', x)\n",
        "print(\"y didn't changed:\", y )\n"
      ],
      "metadata": {
        "id": "1mCDspix8JJM"
      },
      "execution_count": null,
      "outputs": []
    },
    {
      "cell_type": "markdown",
      "source": [
        "## Dictionaries\n",
        "\n",
        "A dictionary is a data structure comprised of `key:value` pairs. Where the *keys* must be unique and replace the sequential index of lists and tuples. *keys* can be *strings* or *numbers*"
      ],
      "metadata": {
        "id": "Nq4NWYa1Ef9_"
      }
    },
    {
      "cell_type": "code",
      "source": [
        "my_dict = {'a': 0, 'b':1, 'c': (10,20), 4:['abc',1], '5':True}\n",
        "print(my_dict)"
      ],
      "metadata": {
        "id": "wDOAJ3-EHGDv",
        "colab": {
          "base_uri": "https://localhost:8080/"
        },
        "outputId": "5649fc32-ff89-40e6-eaaf-3c2d2c845074"
      },
      "execution_count": null,
      "outputs": [
        {
          "output_type": "stream",
          "name": "stdout",
          "text": [
            "{'a': 0, 'b': 1, 'c': (10, 20), 4: ['abc', 1], '5': True}\n"
          ]
        }
      ]
    },
    {
      "cell_type": "code",
      "source": [
        "print(my_dict['a'])\n",
        "\n",
        "print(my_dict['b'])\n",
        "\n",
        "print(my_dict['c'])\n",
        "\n",
        "print(my_dict[4])\n",
        "\n",
        "print(my_dict['5'])\n"
      ],
      "metadata": {
        "id": "a5VgjgztHdHy",
        "colab": {
          "base_uri": "https://localhost:8080/"
        },
        "outputId": "3aefe1bc-bca7-4366-ef9b-ca3d03726b50"
      },
      "execution_count": null,
      "outputs": [
        {
          "output_type": "stream",
          "name": "stdout",
          "text": [
            "0\n",
            "1\n",
            "(10, 20)\n",
            "['abc', 1]\n",
            "True\n"
          ]
        }
      ]
    },
    {
      "cell_type": "code",
      "source": [
        "del my_dict['b']\n",
        "my_dict[6] = 999\n",
        "my_dict"
      ],
      "metadata": {
        "id": "bOuG8AkGItY8",
        "colab": {
          "base_uri": "https://localhost:8080/"
        },
        "outputId": "6bbf7a67-0ab2-46c2-c6e0-5aa9e26e0f6e"
      },
      "execution_count": null,
      "outputs": [
        {
          "output_type": "execute_result",
          "data": {
            "text/plain": [
              "{'a': 0, 'c': (10, 20), 4: ['abc', 1], '5': True, 6: 999}"
            ]
          },
          "metadata": {},
          "execution_count": 38
        }
      ]
    },
    {
      "cell_type": "markdown",
      "source": [
        "# Basic Operations"
      ],
      "metadata": {
        "id": "oWJ9LRVlZick"
      }
    },
    {
      "cell_type": "markdown",
      "source": [
        "## Arithmetic Operations"
      ],
      "metadata": {
        "id": "a7dxLeiIZlxE"
      }
    },
    {
      "cell_type": "markdown",
      "source": [
        "Operator |\tName |\tDescription\n",
        "-----|------|-----\n",
        "a + b |\tAddition |\tSum of `a` and `b`\n",
        "a - b\t| Subtraction\t| Difference of `a` and `b`\n",
        "a * b\t| Multiplication\t| Product of `a` and `b`\n",
        "a / b\t| True division\t| Quotient of `a` and `b`\n",
        "a // b\t| Floor division\t| Quotient of `a` and `b`, removing fractional parts\n",
        "a % b\t| Modulus\t| Integer remainder after division of `a` by `b`\n",
        "a ** b\t| Exponentiation\t| `a` raised to the power of `b`\n",
        "-a\t| Negation\t| The negative of `a`\n",
        "+a\t| Unary plus\t| `a` unchanged (rarely used)"
      ],
      "metadata": {
        "id": "Ho64umn6Zy3q"
      }
    },
    {
      "cell_type": "code",
      "source": [
        "5/3\n"
      ],
      "metadata": {
        "id": "7L-hotNza7bR",
        "colab": {
          "base_uri": "https://localhost:8080/"
        },
        "outputId": "5960aa3b-2caf-4186-b977-27d85f739d88"
      },
      "execution_count": null,
      "outputs": [
        {
          "output_type": "execute_result",
          "data": {
            "text/plain": [
              "1.6666666666666667"
            ]
          },
          "metadata": {},
          "execution_count": 39
        }
      ]
    },
    {
      "cell_type": "code",
      "source": [
        "a = 5\n",
        "b = 3\n",
        "a/b"
      ],
      "metadata": {
        "id": "Oa5YP1LybeAI",
        "colab": {
          "base_uri": "https://localhost:8080/"
        },
        "outputId": "8af46d1a-71ec-4559-b07c-aeea9e8c7e03"
      },
      "execution_count": null,
      "outputs": [
        {
          "output_type": "execute_result",
          "data": {
            "text/plain": [
              "1.6666666666666667"
            ]
          },
          "metadata": {},
          "execution_count": 40
        }
      ]
    },
    {
      "cell_type": "code",
      "source": [
        "5//3"
      ],
      "metadata": {
        "id": "FL-Gz33SbnH8",
        "colab": {
          "base_uri": "https://localhost:8080/"
        },
        "outputId": "ee296d27-6b91-429c-f612-128645e9bcf4"
      },
      "execution_count": null,
      "outputs": [
        {
          "output_type": "execute_result",
          "data": {
            "text/plain": [
              "1"
            ]
          },
          "metadata": {},
          "execution_count": 41
        }
      ]
    },
    {
      "cell_type": "code",
      "source": [
        "5%3"
      ],
      "metadata": {
        "id": "QlMcSE3tbqVX",
        "colab": {
          "base_uri": "https://localhost:8080/"
        },
        "outputId": "05db6861-7bc7-45d7-b1bc-48a6d1f980fc"
      },
      "execution_count": null,
      "outputs": [
        {
          "output_type": "execute_result",
          "data": {
            "text/plain": [
              "2"
            ]
          },
          "metadata": {},
          "execution_count": 42
        }
      ]
    },
    {
      "cell_type": "code",
      "source": [
        "4**2"
      ],
      "metadata": {
        "id": "iTGETCX6bzQD",
        "colab": {
          "base_uri": "https://localhost:8080/"
        },
        "outputId": "78c4c22d-d5ee-4f67-bb82-a59dbca97346"
      },
      "execution_count": null,
      "outputs": [
        {
          "output_type": "execute_result",
          "data": {
            "text/plain": [
              "16"
            ]
          },
          "metadata": {},
          "execution_count": 43
        }
      ]
    },
    {
      "cell_type": "code",
      "source": [
        "4**-2"
      ],
      "metadata": {
        "id": "HDPegYD7cDzA",
        "colab": {
          "base_uri": "https://localhost:8080/"
        },
        "outputId": "4eef66e0-7491-412c-ab0c-caa09d5d8316"
      },
      "execution_count": null,
      "outputs": [
        {
          "output_type": "execute_result",
          "data": {
            "text/plain": [
              "0.0625"
            ]
          },
          "metadata": {},
          "execution_count": 44
        }
      ]
    },
    {
      "cell_type": "code",
      "source": [
        "(2+1)*(4-2)"
      ],
      "metadata": {
        "id": "tfxDjRk_cFpO"
      },
      "execution_count": null,
      "outputs": []
    },
    {
      "cell_type": "markdown",
      "source": [
        "See how sequential addition operates on sequential elements (note, some of this is unique to python):"
      ],
      "metadata": {
        "id": "64goXUoHAQZ8"
      }
    },
    {
      "cell_type": "code",
      "source": [
        "a = [0,1,2]\n",
        "b = ['a','b','c']\n",
        "print(a + b)\n",
        "print(a*2)"
      ],
      "metadata": {
        "id": "eq-rx8l4cNWK",
        "colab": {
          "base_uri": "https://localhost:8080/"
        },
        "outputId": "eba5de7c-5c06-475a-95f9-c70918443cdf"
      },
      "execution_count": null,
      "outputs": [
        {
          "output_type": "stream",
          "name": "stdout",
          "text": [
            "[0, 1, 2, 'a', 'b', 'c']\n",
            "[0, 1, 2, 0, 1, 2]\n"
          ]
        }
      ]
    },
    {
      "cell_type": "code",
      "source": [
        "a = (0,1,2)\n",
        "b = ('a','b','c')\n",
        "print(a + b)\n",
        "print(a*2)"
      ],
      "metadata": {
        "id": "qJWhA2U9AqBl",
        "colab": {
          "base_uri": "https://localhost:8080/"
        },
        "outputId": "a5756c12-1ccd-427e-e40f-b90a6d07030a"
      },
      "execution_count": null,
      "outputs": [
        {
          "output_type": "stream",
          "name": "stdout",
          "text": [
            "(0, 1, 2, 'a', 'b', 'c')\n",
            "(0, 1, 2, 0, 1, 2)\n"
          ]
        }
      ]
    },
    {
      "cell_type": "code",
      "source": [
        "a = {'a': 1, 'b': 2}\n",
        "b = {'c': 3, 'd': 4}\n",
        "a*b"
      ],
      "metadata": {
        "id": "5Ie31KtNAxBd"
      },
      "execution_count": null,
      "outputs": []
    },
    {
      "cell_type": "code",
      "source": [
        "a = 'Hello'\n",
        "b = 'World'\n",
        "print(a + b)\n",
        "print(a*2)"
      ],
      "metadata": {
        "id": "1Oino3tRBO9m",
        "colab": {
          "base_uri": "https://localhost:8080/"
        },
        "outputId": "b7a78634-51a4-47e5-c44b-1bfbfee1e72c"
      },
      "execution_count": null,
      "outputs": [
        {
          "output_type": "stream",
          "name": "stdout",
          "text": [
            "HelloWorld\n",
            "HelloHello\n"
          ]
        }
      ]
    },
    {
      "cell_type": "markdown",
      "source": [
        "## Comparison operations\n",
        "\n",
        "Another type of operation which can be very useful is comparison of different values. For this, Python implements standard comparison operators, which return Boolean values `True` and `False`. The comparison operations are listed in the following table:\n",
        "\n",
        "\n",
        "Operation | Description   \n",
        "---------|-------\n",
        " a == b | a equal to b\n",
        "a != b | a not equal to b\n",
        "a < b | a less than b\n",
        "a > b | a greater than b\n",
        "a <= b | a less than or equal to b\n",
        "a >= b | a greater than or equal to b\n",
        "\n",
        "For example, we can check if a number is odd by checking that the modulus with 2 is different from zero:"
      ],
      "metadata": {
        "id": "fqbINnr2d2wU"
      }
    },
    {
      "cell_type": "code",
      "source": [
        "# 25 is odd\n",
        "24 % 2 != 0"
      ],
      "metadata": {
        "id": "ih-o5Oqyd5uq",
        "colab": {
          "base_uri": "https://localhost:8080/"
        },
        "outputId": "7a14e571-73b9-4a63-b2e3-ee1fa1075e80"
      },
      "execution_count": null,
      "outputs": [
        {
          "output_type": "execute_result",
          "data": {
            "text/plain": [
              "False"
            ]
          },
          "metadata": {},
          "execution_count": 50
        }
      ]
    },
    {
      "cell_type": "code",
      "source": [
        "# check if a is between 15 and 30\n",
        "a = 25\n",
        "15 < a < 30"
      ],
      "metadata": {
        "id": "gblK6UAiejbG",
        "colab": {
          "base_uri": "https://localhost:8080/"
        },
        "outputId": "9073f522-aeb1-4e4f-ba18-3db9ee31ce22"
      },
      "execution_count": null,
      "outputs": [
        {
          "output_type": "execute_result",
          "data": {
            "text/plain": [
              "True"
            ]
          },
          "metadata": {},
          "execution_count": 51
        }
      ]
    },
    {
      "cell_type": "markdown",
      "source": [
        "## Boolean or logical operations\n",
        "\n",
        "Operator      |Description                                   \n",
        "----------------------|-----------------\n",
        "`a and b` | Return `True` when both statements are `True`\n",
        " `a or b`  | Return `True` when either `a` or `b` is `True`\n",
        " `not a`   | Reverse the result, returns False if `a` is true"
      ],
      "metadata": {
        "id": "3AgKR8dKfqoR"
      }
    },
    {
      "cell_type": "code",
      "source": [
        "x = 10\n",
        "y = 20\n",
        "\n",
        "x > y\n"
      ],
      "metadata": {
        "id": "NqkpLySmfs-0",
        "colab": {
          "base_uri": "https://localhost:8080/"
        },
        "outputId": "afd3089a-2e53-4edf-8dc2-53c33ce9b1f2"
      },
      "execution_count": null,
      "outputs": [
        {
          "output_type": "execute_result",
          "data": {
            "text/plain": [
              "False"
            ]
          },
          "metadata": {},
          "execution_count": 52
        }
      ]
    },
    {
      "cell_type": "code",
      "source": [
        "not x > y"
      ],
      "metadata": {
        "id": "a8K0GPOBO2E4",
        "colab": {
          "base_uri": "https://localhost:8080/"
        },
        "outputId": "9f644ef6-b2b5-4f26-dce6-1d8dbde20e32"
      },
      "execution_count": null,
      "outputs": [
        {
          "output_type": "execute_result",
          "data": {
            "text/plain": [
              "True"
            ]
          },
          "metadata": {},
          "execution_count": 53
        }
      ]
    },
    {
      "cell_type": "markdown",
      "source": [
        "# Exercises\n",
        "\n",
        "Taken from (It's an excelent book for learning Python):   \n",
        "https://pythonnumericalmethods.berkeley.edu/notebooks/Index.html"
      ],
      "metadata": {
        "id": "JUACSxfleONT"
      }
    },
    {
      "cell_type": "markdown",
      "source": [
        "# Homework 3 Part 1\n",
        "Prior to starting any of these notebooks, please make sure to save a copy of this to your google drive. This can be done by navigating to *file* > *Save a copy in Drive*. Your changes will not be saved unless this has been completed.\n",
        "\n",
        "**NOTE: It is okay to work in groups to complete this assignment - but the assignment must be turned in and completed individually**"
      ],
      "metadata": {
        "id": "xS5A2Psoy8RM"
      }
    },
    {
      "cell_type": "markdown",
      "source": [
        "## Problem 1 - 3 points\n",
        "Given two tuples defining two points, for example: (3,4) and (5,9), calculate the slope of the line defined by the points."
      ],
      "metadata": {
        "id": "YZprrE7peYKy"
      }
    },
    {
      "cell_type": "code",
      "source": [
        "a = (3,4)\n",
        "b = (5,9)\n",
        "\n",
        "c = (b[1]-a[1])/(b[0]-a[0])\n",
        "print(c)"
      ],
      "metadata": {
        "id": "O8InYmede3gt",
        "colab": {
          "base_uri": "https://localhost:8080/"
        },
        "outputId": "27ca0928-08b6-4219-82a5-acd2c48b054e"
      },
      "execution_count": null,
      "outputs": [
        {
          "output_type": "stream",
          "name": "stdout",
          "text": [
            "2.5\n"
          ]
        }
      ]
    },
    {
      "cell_type": "markdown",
      "source": [
        "## Problem 2 - 3 points\n",
        "For the same points in Problem 1, calculate the distance between each point and the origin (0,0) and write a statement using the print function identify the one closer to the origin."
      ],
      "metadata": {
        "id": "7Mw0twU9e6TX"
      }
    },
    {
      "cell_type": "code",
      "source": [
        "dist_a = (a[0]**2+a[1]**2)**0.5\n",
        "print(dist_a)\n",
        "dist_b = (b[0]**2+b[1]**2)**0.5\n",
        "print(dist_b)"
      ],
      "metadata": {
        "id": "ep8LqiyWeT4u",
        "colab": {
          "base_uri": "https://localhost:8080/"
        },
        "outputId": "909e0565-e88e-4eec-c42f-56707eb89d20"
      },
      "execution_count": null,
      "outputs": [
        {
          "output_type": "stream",
          "name": "stdout",
          "text": [
            "5.0\n",
            "10.295630140987\n"
          ]
        }
      ]
    },
    {
      "cell_type": "markdown",
      "source": [
        "## Problem 3 - 3 points\n",
        "Create a dictionary with at least 4 `key:value` pairs. Specify two values of the `key:value` pairs to be equal to integers, one equal to a bool, and one equal to a string.\n",
        "\n",
        "Write a statement that returns the value `True` by comparing the two intergers in your dictionary. Make sure to reference the dictionary's key to call the value in your comparison."
      ],
      "metadata": {
        "id": "kpvCtG0xfSUb"
      }
    },
    {
      "cell_type": "code",
      "source": [
        "my_dict = {'a': 0, 'b':1, 'c': (10,20), 4:'blue', '5':True}\n",
        "\n",
        "print(my_dict['a'] < my_dict['b'])\n",
        "\n",
        "'a' < 'c'"
      ],
      "metadata": {
        "id": "DbW_tbgtf-oI",
        "colab": {
          "base_uri": "https://localhost:8080/"
        },
        "outputId": "3f6299db-7030-4920-c4a8-fa79e2380608"
      },
      "execution_count": null,
      "outputs": [
        {
          "output_type": "stream",
          "name": "stdout",
          "text": [
            "True\n"
          ]
        },
        {
          "output_type": "execute_result",
          "data": {
            "text/plain": [
              "True"
            ]
          },
          "metadata": {},
          "execution_count": 16
        }
      ]
    },
    {
      "cell_type": "markdown",
      "source": [
        "# Problem 4 - 6 points\n",
        "Create four variables and print the type of each (hint: use the `print` and `type` functions).\n",
        "\n",
        "var_1 = 1234  \n",
        "var_2 = 3.1415926  \n",
        "var_3 = 'True'  \n",
        "var_4 = True  \n",
        "\n",
        "Then, create a new text cell below the code and discuss the difference between var_3 and var_4. In the cell block, please answer the following questions:\n",
        "1. Why are these variables different/the same?\n",
        "2. What boolean operator would you use to see if var_3 and var_4 are equal?\n",
        "3. Please include a Header at the top of your text cell block."
      ],
      "metadata": {
        "id": "uwdWFCaXMTuj"
      }
    },
    {
      "cell_type": "code",
      "source": [],
      "metadata": {
        "id": "ULfMkOXaNRXj"
      },
      "execution_count": null,
      "outputs": []
    },
    {
      "cell_type": "markdown",
      "source": [
        "# Problem 5\n",
        "Once this notebook has been completed, please \"print\" the notebook as a pdf. You may do this by going to *file* > *print* and choosing *Save as PDF*. Turn this into Blackboard under the submission for Homework 3 part 1."
      ],
      "metadata": {
        "id": "UizxbhUHO6f0"
      }
    },
    {
      "cell_type": "code",
      "source": [],
      "metadata": {
        "id": "LWYxpk5N3Cw-"
      },
      "execution_count": null,
      "outputs": []
    }
  ]
}