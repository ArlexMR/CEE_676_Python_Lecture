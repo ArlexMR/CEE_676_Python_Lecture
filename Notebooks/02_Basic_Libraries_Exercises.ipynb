{
  "nbformat": 4,
  "nbformat_minor": 0,
  "metadata": {
    "colab": {
      "provenance": [],
      "toc_visible": true,
      "authorship_tag": "ABX9TyMIbACGrl7Hf+JKeW/Zl5m1",
      "include_colab_link": true
    },
    "kernelspec": {
      "name": "python3",
      "display_name": "Python 3"
    },
    "language_info": {
      "name": "python"
    }
  },
  "cells": [
    {
      "cell_type": "markdown",
      "metadata": {
        "id": "view-in-github",
        "colab_type": "text"
      },
      "source": [
        "<a href=\"https://colab.research.google.com/github/ArlexMR/CEE_694_Python_Lecture/blob/main/Notebooks/02_Basic_Libraries_Exercises.ipynb\" target=\"_parent\"><img src=\"https://colab.research.google.com/assets/colab-badge.svg\" alt=\"Open In Colab\"/></a>"
      ]
    },
    {
      "cell_type": "markdown",
      "source": [
        "# Using Libraries"
      ],
      "metadata": {
        "id": "f1do1qxaUA8g"
      }
    },
    {
      "cell_type": "markdown",
      "source": [
        "# (10 points) Exercise 1. Numpy\n",
        "Numpy is a library for scientific computing. It provides tools for working with multidimensional arrays (vectors, matrices). To use the library, it must be imported using:  \n",
        "`import numpy`  \n",
        "It is a common practice to define an alias to imported libraries. the standard alias for numpy is `np`. This alias is defined as follows:  \n",
        "`import numpy as np`  \n",
        "Remember, you can use any alias you want, but `np` is the convention for numpy"
      ],
      "metadata": {
        "id": "ZuN_gs3Pruj-"
      }
    },
    {
      "cell_type": "code",
      "execution_count": null,
      "metadata": {
        "id": "hQsGPzc1eK34"
      },
      "outputs": [],
      "source": [
        "import numpy as np"
      ]
    },
    {
      "cell_type": "markdown",
      "source": [
        "The basic data type -a more precise name would be `class`- in Numpy is the *Numpy array* which can be created with `np.array()`. (Note that if no alias is defined, the instruction should be `numpy.array()` )\n"
      ],
      "metadata": {
        "id": "-XzYZ78auknv"
      }
    },
    {
      "cell_type": "code",
      "source": [
        "my_list = [1,2,3] # start with a list\n",
        "my_arr = np.array(my_list) # create the numpy array from the list\n",
        "my_arr"
      ],
      "metadata": {
        "id": "1H23umpCsKWg"
      },
      "execution_count": null,
      "outputs": []
    },
    {
      "cell_type": "markdown",
      "source": [
        "## 1.1\n",
        "Numpy arrays and lists might look similar but they are quite different. The cells below will help you understand the differences between list and arrays.  \n",
        "Your task is to provide appropiate values to the variables: `list_multiplication`, `array_multiplication`, `list_addition` and `array_addition` to get a `True` outcome when the following cells are executed"
      ],
      "metadata": {
        "id": "XHhPlNzwzRfQ"
      }
    },
    {
      "cell_type": "code",
      "source": [
        "list_multiplication = 0\n",
        "my_list*2 == list_multiplication"
      ],
      "metadata": {
        "id": "shDdd52bz2sw"
      },
      "execution_count": null,
      "outputs": []
    },
    {
      "cell_type": "code",
      "source": [
        "array_multiplication = 0\n",
        "my_arr*2 == array_multiplication"
      ],
      "metadata": {
        "id": "pTg6opdJz1Zy"
      },
      "execution_count": null,
      "outputs": []
    },
    {
      "cell_type": "code",
      "source": [
        "list_addition = 0\n",
        "my_list + my_list == list_addition"
      ],
      "metadata": {
        "id": "pLkbkd7D0sku"
      },
      "execution_count": null,
      "outputs": []
    },
    {
      "cell_type": "code",
      "source": [
        "array_addition = 0\n",
        "my_arr + my_arr == array_addition"
      ],
      "metadata": {
        "id": "YBfP7GBa00RU"
      },
      "execution_count": null,
      "outputs": []
    },
    {
      "cell_type": "markdown",
      "source": [
        "## 1.2\n",
        "Numpy arrays can also be multidimensional. For example, a two-dimensional array can be defined as follows"
      ],
      "metadata": {
        "id": "F0VaUrODvSL-"
      }
    },
    {
      "cell_type": "code",
      "source": [
        "twoD_list = [[1,2], [3,4]] # list with two elements, each of them is another 2-element list\n",
        "twoD_arr  = np.array(twoD_list) #two-dimensional array\n",
        "twoD_arr"
      ],
      "metadata": {
        "id": "lq78CwDN1dg5"
      },
      "execution_count": null,
      "outputs": []
    },
    {
      "cell_type": "markdown",
      "source": [
        "For each of the following, make  the required modification to the value on the right of the `==` in order to obtain a `True` value when the cell is executed"
      ],
      "metadata": {
        "id": "SbwUmuWC2i8k"
      }
    },
    {
      "cell_type": "code",
      "source": [
        "twoD_list[0][0] == 0"
      ],
      "metadata": {
        "id": "y1fyIscK2l7T"
      },
      "execution_count": null,
      "outputs": []
    },
    {
      "cell_type": "code",
      "source": [
        "twoD_arr[0,0] == 0"
      ],
      "metadata": {
        "id": "fH0zmvGO22k6"
      },
      "execution_count": null,
      "outputs": []
    },
    {
      "cell_type": "code",
      "source": [
        "twoD_arr.mean() == 0"
      ],
      "metadata": {
        "id": "mW8dzGVM6y8a"
      },
      "execution_count": null,
      "outputs": []
    },
    {
      "cell_type": "code",
      "source": [
        "twoD_arr.mean(axis = 0) == 0"
      ],
      "metadata": {
        "id": "6w_yWFFq64b-"
      },
      "execution_count": null,
      "outputs": []
    },
    {
      "cell_type": "code",
      "source": [
        "twoD_arr.mean(axis = 1) == 0"
      ],
      "metadata": {
        "id": "kPTMqDbY6-Gq"
      },
      "execution_count": null,
      "outputs": []
    },
    {
      "cell_type": "code",
      "source": [
        "twoD_arr.shape == 0"
      ],
      "metadata": {
        "id": "Z7Rz3Cu529Cb"
      },
      "execution_count": null,
      "outputs": []
    },
    {
      "cell_type": "code",
      "source": [
        "twoD_arr.size == 0"
      ],
      "metadata": {
        "id": "oXM8ew8e406O"
      },
      "execution_count": null,
      "outputs": []
    },
    {
      "cell_type": "code",
      "source": [
        "array_of_zeros = np.zeros((2,3,5))\n",
        "array_of_zeros.shape == 0"
      ],
      "metadata": {
        "id": "rfPwG24r5Hww"
      },
      "execution_count": null,
      "outputs": []
    },
    {
      "cell_type": "code",
      "source": [
        "array_of_zeros = np.zeros((2,3,5))\n",
        "array_of_zeros.size == 0"
      ],
      "metadata": {
        "id": "Shs-QeKH5Pmb"
      },
      "execution_count": null,
      "outputs": []
    },
    {
      "cell_type": "markdown",
      "source": [
        "# (10 points) Exercise 2. matplotlib"
      ],
      "metadata": {
        "id": "w9PikIO745QT"
      }
    },
    {
      "cell_type": "markdown",
      "source": [
        "Matplotlib is the most popular library for creating charts. The charts are created with the submodule pyplot which is usually aliased `plt`. To import pyplot, use any of the following:  \n",
        "`from matplotlib import pyplot as plt`   \n",
        "`import matplotlib.pyplot as plt`"
      ],
      "metadata": {
        "id": "CkzqSdTO7Q9y"
      }
    },
    {
      "cell_type": "code",
      "source": [
        "import matplotlib.pyplot as plt"
      ],
      "metadata": {
        "id": "DKh_cBpL7QRb"
      },
      "execution_count": null,
      "outputs": []
    },
    {
      "cell_type": "markdown",
      "source": [
        "The next cell shows how a basic line plot can be created from two equal-length vectors (which can be lists or numpy arrays). Try the following:  \n",
        "1. Uncomment the last lines (one by one) to see how the plot changes\n",
        "2. The string `'ok--'` controls the marker type (`'o'`), color (`'k'`) and line style (`'--'`). Change the values provided by the following and see the results:  \n",
        "* `*g-`\n",
        "* `^c-.`\n",
        "* `.y`\n",
        "* `r`  "
      ],
      "metadata": {
        "id": "gHdbs1J29dbL"
      }
    },
    {
      "cell_type": "code",
      "source": [
        "x = [10, 20, 30, 40, 50]\n",
        "y = [50, 60, 30, 20, 80]\n",
        "y2 =[30, 35, 40, 45, 50]\n",
        "\n",
        "plt.plot(x,y)\n",
        "plt.plot(x,y2,'ok--')\n",
        "\n",
        "# plt.xlabel(\"x\")\n",
        "# plt.ylabel(\"y\", fontsize = 20)\n",
        "# plt.xlim(20,35)\n",
        "# plt.ylim(20,50)"
      ],
      "metadata": {
        "id": "5W_3sDbx_OZo"
      },
      "execution_count": null,
      "outputs": []
    },
    {
      "cell_type": "markdown",
      "source": [
        "## 2.1\n",
        "The following cell creates an array `x` with a sequence of 1000 evenly spaced numbers between 0 and 300 and an array `y` whose values correspond to the following function evaluated on `x`:\n",
        "\n",
        "$$y = e^{-x/10}  sin(x)$$"
      ],
      "metadata": {
        "id": "Lw6Y_aXACvcz"
      }
    },
    {
      "cell_type": "code",
      "source": [
        "x = np.linspace(0,300,1000)\n",
        "y = np.exp(-0.1*x) * np.sin(x)"
      ],
      "metadata": {
        "id": "CwXLvmNA4_L4"
      },
      "execution_count": null,
      "outputs": []
    },
    {
      "cell_type": "markdown",
      "source": [
        "Make a plot with the (x,y) pairs, name the `x` axis as *time* and the `y` axis as *amplitude*, adjust the axis limits for a good visualization of the data, use points as markers and include a blue dashed line"
      ],
      "metadata": {
        "id": "ICVHWZUDEdXZ"
      }
    },
    {
      "cell_type": "code",
      "source": [],
      "metadata": {
        "id": "TcRj7nF3HKVI"
      },
      "execution_count": null,
      "outputs": []
    },
    {
      "cell_type": "markdown",
      "source": [
        "# (13 points) Exercise 3. Pandas\n",
        "Pandas is a library for tabular data manipulation. It is built upon Numpy and provides tools for data science. The basic data types in Pandas are the Series and the DataFrame.  \n",
        "Pandas is usually aliased as pd:"
      ],
      "metadata": {
        "id": "2hMxsNqNHXeU"
      }
    },
    {
      "cell_type": "code",
      "source": [
        "import pandas as pd"
      ],
      "metadata": {
        "id": "Sav5k66QIUsV"
      },
      "execution_count": null,
      "outputs": []
    },
    {
      "cell_type": "markdown",
      "source": [
        "One way to create a pandas DataFrame is using a dictionary as follows:"
      ],
      "metadata": {
        "id": "x5v9YcZMJRRX"
      }
    },
    {
      "cell_type": "code",
      "source": [
        "# some data\n",
        "day  = [10, 12, 13, 14, 17]\n",
        "temp = [45, 62, 74, 82, 95]\n",
        "hr   = [83, 76, 95, 57, 45]\n",
        "wind = [8, 12, 15, 3, 7]\n",
        "rain  = [True, False, True, False, False]\n",
        "\n",
        "# Define the dict. Note that 'day' is not included in the dict\n",
        "data_dict = {\"temp\" : temp, \"hr\": hr, \"wind\": wind, \"rain\": rain}\n",
        "\n",
        "# Create the DataFrame using the data in the dictionary and using the list 'day' as index\n",
        "df = pd.DataFrame(data = data_dict, index = day)\n",
        "df"
      ],
      "metadata": {
        "id": "Ke72ruO_JeUX"
      },
      "execution_count": null,
      "outputs": []
    },
    {
      "cell_type": "markdown",
      "source": [
        "Check the result obtained after execting each of the following instructions:  \n",
        "`type(df)`  \n",
        "`df.index`  \n",
        "`df.columns`  \n",
        "`df.mean()`  \n",
        "`df.std()`  \n",
        "`df[\"hr\"] / 100`  \n",
        "`df[\"hr_frac\"] = df[\"hr\"] / 100`   # you may need to display the dataframe to see the change produced by this line  \n",
        "`df.sort_values(by = \"wind\")`  \n",
        "`df.sort_values(by = \"wind\", ascending = False)`\n",
        "\n",
        "\n",
        "The following can be used to extract portions of the DataFrame. Try to catch the logic used for filtering columns and rows\n",
        "\n",
        "`df[\"wind\"]`  \n",
        "`type(df[\"wind\"])`  \n",
        "`df[[\"temp\", \"rain\"]]`  \n",
        "`df.loc[13, \"rain\"]`  \n",
        "`df.loc[13:17, [\"hr\", \"rain\"]]`  \n",
        "`df.loc[df[\"rain\"] == True, \"temp\"]`  \n",
        "`df[\"temp\"] < 70`  \n",
        "`df.loc[df[\"temp\"] < 70]`\n",
        "\n"
      ],
      "metadata": {
        "id": "nt1XCL4ONdg_"
      }
    },
    {
      "cell_type": "code",
      "source": [],
      "metadata": {
        "id": "e6n8ufufMVqN"
      },
      "execution_count": null,
      "outputs": []
    },
    {
      "cell_type": "markdown",
      "source": [
        "## 3.1\n",
        "Write instructions to compute the max, min and mean temperature when rain is True. Use `print()` to show the results"
      ],
      "metadata": {
        "id": "mHOZ4hBTIbxr"
      }
    },
    {
      "cell_type": "code",
      "source": [],
      "metadata": {
        "id": "nGTLPrWZIcL9"
      },
      "execution_count": null,
      "outputs": []
    },
    {
      "cell_type": "markdown",
      "source": [
        "Execute the following cells and compare with your result in the previous cell"
      ],
      "metadata": {
        "id": "JHwHH5kMI_39"
      }
    },
    {
      "cell_type": "code",
      "source": [
        "df.groupby(\"rain\").max()"
      ],
      "metadata": {
        "id": "SmEuOVHaJCRN"
      },
      "execution_count": null,
      "outputs": []
    },
    {
      "cell_type": "code",
      "source": [
        "df.groupby(\"rain\").mean()"
      ],
      "metadata": {
        "id": "t0E71u8DJkhP"
      },
      "execution_count": null,
      "outputs": []
    },
    {
      "cell_type": "markdown",
      "source": [
        "Using the sintax shown in the previous cells, write instructions to compute the max, min and mean temperature when rain is True."
      ],
      "metadata": {
        "id": "a3Qya5U3J3Jv"
      }
    },
    {
      "cell_type": "code",
      "source": [],
      "metadata": {
        "id": "Acf7Cgx4K5mu"
      },
      "execution_count": null,
      "outputs": []
    },
    {
      "cell_type": "markdown",
      "source": [
        "## 3.2\n"
      ],
      "metadata": {
        "id": "hmyaxG1QK_R9"
      }
    },
    {
      "cell_type": "markdown",
      "source": [
        "A DataFrame can also be created from an external file such a csv (a csv file can also be opened with excel or notepad). The next cell creates a DataFrame from a csv file stored in an online server (you can copy and paste the url in your browser to see the plain text file)"
      ],
      "metadata": {
        "id": "T9-bKH9YOjHp"
      }
    },
    {
      "cell_type": "code",
      "source": [
        "file_path = \"https://raw.githubusercontent.com/ArlexMR/CEE_694_Python_Lecture/main/Data/time_series.csv\"\n",
        "precip_df  = pd.read_csv(file_path)\n",
        "precip_df.head() # this instruction is used to show the first 5 rows of the DataFrame"
      ],
      "metadata": {
        "id": "FN7Mws6BdcaJ"
      },
      "execution_count": null,
      "outputs": []
    },
    {
      "cell_type": "markdown",
      "source": [
        "This DataFrame contains precipitation data collected at the Louisville international airport. When working with time series data, it is convenient to have the time as the index (in this case, the column *DATE*). This can be done as follows:  "
      ],
      "metadata": {
        "id": "M4MD-9VNPeuw"
      }
    },
    {
      "cell_type": "code",
      "source": [
        "precip_df.index = pd.to_datetime(precip_df[\"DATE\"])"
      ],
      "metadata": {
        "id": "ap6_bqjMPgk3"
      },
      "execution_count": null,
      "outputs": []
    },
    {
      "cell_type": "markdown",
      "source": [
        "Note that the column *DATE* is comprised of strings. Therefore, the function `pd.to_datetime()` is applied to convert the values to a date format.  \n",
        "To see the difference, compare the outcome of the following instructions:  \n",
        "`precip_df[\"DATE\"][0]`  \n",
        "`precip_df.index[0]`\n"
      ],
      "metadata": {
        "id": "xp1oUkdEUSEK"
      }
    },
    {
      "cell_type": "markdown",
      "source": [
        "Once the index contains dates, we can use several functions for time series analysis. One of the most relevant is `resample`. Execute the following lines to understand the logic behind this function:"
      ],
      "metadata": {
        "id": "jQWweMxkYLtw"
      }
    },
    {
      "cell_type": "code",
      "source": [
        "precip_df[\"PRCP_in\"].resample('Y').sum()"
      ],
      "metadata": {
        "id": "gfespbi3YhjC"
      },
      "execution_count": null,
      "outputs": []
    },
    {
      "cell_type": "code",
      "source": [
        "precip_df[\"PRCP_in\"].resample('Y').max()"
      ],
      "metadata": {
        "id": "22C5RM2WYlJ5"
      },
      "execution_count": null,
      "outputs": []
    },
    {
      "cell_type": "code",
      "source": [
        "precip_df[\"PRCP_in\"].resample('m').sum()"
      ],
      "metadata": {
        "id": "A7n8AXlYYnSe"
      },
      "execution_count": null,
      "outputs": []
    },
    {
      "cell_type": "code",
      "source": [
        "precip_df[\"PRCP_in\"].resample('3m').sum()"
      ],
      "metadata": {
        "id": "q_igG3j-Yqf6"
      },
      "execution_count": null,
      "outputs": []
    },
    {
      "cell_type": "markdown",
      "source": [
        "Using the function `resample`, find the highest and lowest **monthly** precipitation values. Can you also find the specific months when the highest and lowest values occurred?"
      ],
      "metadata": {
        "id": "0KJYpmejYz_H"
      }
    },
    {
      "cell_type": "code",
      "source": [],
      "metadata": {
        "id": "Y9F4U6taaFPk"
      },
      "execution_count": null,
      "outputs": []
    }
  ]
}